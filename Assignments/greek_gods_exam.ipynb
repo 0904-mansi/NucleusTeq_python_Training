{
  "nbformat": 4,
  "nbformat_minor": 0,
  "metadata": {
    "colab": {
      "provenance": []
    },
    "kernelspec": {
      "name": "python3",
      "display_name": "Python 3"
    },
    "language_info": {
      "name": "python"
    }
  },
  "cells": [
    {
      "cell_type": "markdown",
      "source": [
        "# Raw dataset creation"
      ],
      "metadata": {
        "id": "cP4qz-uXaCai"
      }
    },
    {
      "cell_type": "code",
      "source": [
        "import csv\n",
        "\n",
        "# Data for greek_gods.csv\n",
        "greek_gods_data = [\n",
        "    [\"God\", \"Domain\", \"Symbol\", \"Age\"],\n",
        "    [\"Zeus\", \"King of the Gods\", \"Thunderbolt\", 10000],\n",
        "    [\"Poseidon\", \"God of the Sea\", \"Trident\", 9000],\n",
        "    [\"Hera\", \"Queen of the Gods\", \"Peacock\", 8500],\n",
        "    [\"Athena\", \"Goddess of Wisdom\", \"Owl\", 8000],\n",
        "    [\"Hades\", \"God of the Underworld\", \"Helmet\", 9500],\n",
        "     [\"Apollo\", \"God of the Sun\", \"Lyre\", 8500],\n",
        "    [\"Dionysus\", \"God of Wine\", \"Grapevine\", 7800],\n",
        "    [\"Hermes\", \"God of Trade and Messengers\", \"Caduceus\", 8200],\n",
        "    [\"Ares\", \"God of War\", \"Spear\", 8600],\n",
        "    [\"Hephaestus\", \"God of Fire and Blacksmiths\", \"Hammer\", 8300],\n",
        "    [\"Eros\", \"God of Love\", \"Bow and Arrow\", 7600],\n",
        "    [\"Pan\", \"God of the Wild\", \"Flute\", 7900],\n",
        "    [\"Chronos\", \"God of Time\", \"Hourglass\", 9000],\n",
        "    [\"Uranus\", \"God of the Sky\", \"Globe\", 11000],\n",
        "    [\"Cronus\", \"Titan of Time and Harvest\", \"Sickle\", 10500],\n",
        "    [\"Atlas\", \"Titan of Astronomy\", \"Globe\", 10800],\n",
        "    [\"Prometheus\", \"Titan of Forethought\", \"Torch\", 10700],\n",
        "    [\"Epimetheus\", \"Titan of Afterthought\", \"Anvil\", 10600],\n",
        "    [\"Helios\", \"Titan of the Sun\", \"Chariot\", 10900],\n",
        "    [\"Hecate\", \"Goddess of Magic\", \"Torch\", 8400],\n",
        "    [\"Nemesis\", \"Goddess of Revenge\", \"Sword\", 8700],\n",
        "    [\"Nike\", \"Goddess of Victory\", \"Laurel Wreath\", 8800],\n",
        "    [\"Tyche\", \"Goddess of Luck\", \"Cornucopia\", 8600],\n",
        "    [\"Eirene\", \"Goddess of Peace\", \"Cornucopia\", 8700],\n",
        "    [\"Ananke\", \"Goddess of Necessity\", \"Serpent\", 9200],\n",
        "    [\"Theia\", \"Titaness of Sight\", \"Eye\", 10200],\n",
        "    [\"Selene\", \"Titaness of the Moon\", \"Crescent Moon\", 10300],\n",
        "    [\"Phoebe\", \"Titaness of Prophecy\", \"Torch\", 10400],\n",
        "    [\"Rhea\", \"Titaness of Fertility\", \"Cornucopia\", 10100],\n",
        "    [\"Mnemosyne\", \"Titaness of Memory\", \"Scroll\", 10000],\n",
        "    [\"Tethys\", \"Titaness of the Sea\", \"Fish\", 9900],\n",
        "    [\"Oceanus\", \"Titan of the Ocean\", \"Trident\", 9800],\n",
        "    [\"Coeus\", \"Titan of Intelligence\", \"Sphinx\", 9700],\n",
        "    [\"Crius\", \"Titan of Constellations\", \"Star Map\", 9600],\n",
        "    [\"Iapetus\", \"Titan of Mortality\", \"Hourglass\", 9500],\n",
        "    [\"Phanes\", \"Protogenos of Creation\", \"Cosmic Egg\", 12000],\n",
        "    [\"Eros\", \"Protogenos of Procreation\", \"Bow and Arrow\", 12100],\n",
        "    [\"Aether\", \"Protogenos of Light\", \"Orb\", 12200],\n",
        "    [\"Tartarus\", \"Protogenos of the Abyss\", \"Chasm\", 12300],\n",
        "    [\"Gaea\", \"Protogenos of the Earth\", \"Globe\", 12400],\n",
        "    [\"Uranus\", \"Protogenos of the Sky\", \"Globe\", 12500],\n",
        "    [\"Nyxt\", \"Protogenos of Night\", \"Moon\", 12600],\n",
        "    [\"Hemera\", \"Protogenos of Day\", \"Sun\", 12700],\n",
        "    [\"Pontus\", \"Protogenos of the Sea\", \"Trident\", 12800],\n",
        "    [\"Thanatos\", \"Protogenos of Death\", \"Scythe\", 12900],\n",
        "    [\"Erebos\", \"Protogenos of Darkness\", \"Shadow\", 13000],\n",
        "    [\"Eros\", \"Primordial God of Love\", \"Bow and Arrow\", 13100],\n",
        "    [\"Tartarus\", \"Primordial God of the Abyss\", \"Chasm\", 13200],\n",
        "    [\"Gaia\", \"Primordial Goddess of the Earth\", \"Globe\", 13300],\n",
        "    [\"Uranus\", \"Primordial God of the Sky\", \"Globe\", 13400],\n",
        "    [\"Nyx\", \"Primordial Goddess of Night\", \"Moon\", 13500],\n",
        "    [\"Erebus\", \"Primordial God of Darkness\", \"Shadow\", 13600],\n",
        "    [\"Aether\", \"Primordial God of Light\", \"Orb\", 13700],\n",
        "    [\"Hemera\", \"Primordial Goddess of Day\", \"Sun\", 13800],\n",
        "    [\"Pontus\", \"Primordial God of the Sea\", \"Trident\", 13900]\n",
        "\n",
        "]\n",
        "\n",
        "# Write to greek_gods.csv\n",
        "with open(\"greek_gods.csv\", \"w\", newline=\"\") as file:\n",
        "    writer = csv.writer(file)\n",
        "    writer.writerows(greek_gods_data)\n",
        "\n",
        "# Data for greek_goddesses.csv\n",
        "greek_goddesses_data = [\n",
        "    [\"Goddess\", \"Domain\", \"Symbol\", \"Age\"],\n",
        "    [\"Aphrodite\", \"Goddess of Love\", \"Dove\", 7000],\n",
        "    [\"Artemis\", \"Goddess of the Hunt\", \"Bow and Arrow\", 7500],\n",
        "    [\"Demeter\", \"Goddess of Agriculture\", \"Wheat\", 8000],\n",
        "    [\"Hestia\", \"Goddess of the Hearth\", \"Fire\", 8200],\n",
        "    [\"Persephone\", \"Queen of the Underworld\", \"Pomegranate\", 7800],\n",
        "    [\"Athena\", \"Goddess of Warfare\", \"Aegis\", 8000],\n",
        "    [\"Aphrodite\", \"Goddess of Love\", \"Dove\", 7000],\n",
        "    [\"Persephone\", \"Goddess of Spring\", \"Flowers\", 7800],\n",
        "    [\"Artemis\", \"Goddess of the Hunt\", \"Bow and Arrow\", 7500],\n",
        "    [\"Demeter\", \"Goddess of Agriculture\", \"Wheat\", 8000],\n",
        "    [\"Hestia\", \"Goddess of the Hearth\", \"Fire\", 8200],\n",
        "    [\"Persephone\", \"Queen of the Underworld\", \"Pomegranate\", 7800],\n",
        "    [\"Hecate\", \"Goddess of Magic\", \"Torch\", 8400],\n",
        "    [\"Nemesis\", \"Goddess of Revenge\", \"Sword\", 8700],\n",
        "    [\"Nike\", \"Goddess of Victory\", \"Laurel Wreath\", 8800],\n",
        "    [\"Tyche\", \"Goddess of Luck\", \"Cornucopia\", 8600],\n",
        "    [\"Eirene\", \"Goddess of Peace\", \"Cornucopia\", 8700],\n",
        "    [\"Ananke\", \"Goddess of Necessity\", \"Serpent\", 9200],\n",
        "    [\"Theia\", \"Titaness of Sight\", \"Eye\", 10200],\n",
        "    [\"Selene\", \"Titaness of the Moon\", \"Crescent Moon\", 10300],\n",
        "    [\"Phoebe\", \"Titaness of Prophecy\", \"Torch\", 10400],\n",
        "    [\"Rhea\", \"Titaness of Fertility\", \"Cornucopia\", 10100],\n",
        "    [\"Mnemosyne\", \"Titaness of Memory\", \"Scroll\", 10000],\n",
        "    [\"Tethys\", \"Titaness of the Sea\", \"Fish\", 9900],\n",
        "    [\"Oceanus\", \"Titan of the Ocean\", \"Trident\", 9800],\n",
        "    [\"Coeus\", \"Titan of Intelligence\", \"Sphinx\", 9700],\n",
        "    [\"Crius\", \"Titan of Constellations\", \"Star Map\", 9600],\n",
        "    [\"Iapetus\", \"Titan of Mortality\", \"Hourglass\", 9500],\n",
        "    [\"Phanes\", \"Protogenos of Creation\", \"Cosmic Egg\", 12000],\n",
        "    [\"Eros\", \"Protogenos of Procreation\", \"Bow and Arrow\", 12100],\n",
        "    [\"Aether\", \"Protogenos of Light\", \"Orb\", 12200],\n",
        "    [\"Tartarus\", \"Protogenos of the Abyss\", \"Chasm\", 12300],\n",
        "    [\"Gaea\", \"Protogenos of the Earth\", \"Globe\", 12400],\n",
        "    [\"Uranus\", \"Protogenos of the Sky\", \"Globe\", 12500],\n",
        "    [\"Nyxt\", \"Protogenos of Night\", \"Moon\", 12600],\n",
        "    [\"Hemera\", \"Protogenos of Day\", \"Sun\", 12700],\n",
        "    [\"Pontus\", \"Protogenos of the Sea\", \"Trident\", 12800],\n",
        "    [\"Thanatos\", \"Protogenos of Death\", \"Scythe\", 12900],\n",
        "    [\"Erebos\", \"Protogenos of Darkness\", \"Shadow\", 13000],\n",
        "    [\"Eros\", \"Primordial God of Love\", \"Bow and Arrow\", 13100],\n",
        "    [\"Tartarus\", \"Primordial God of the Abyss\", \"Chasm\", 13200],\n",
        "    [\"Gaia\", \"Primordial Goddess of the Earth\", \"Globe\", 13300],\n",
        "    [\"Uranus\", \"Primordial God of the Sky\", \"Globe\", 13400],\n",
        "    [\"Nyx\", \"Primordial Goddess of Night\", \"Moon\", 13500],\n",
        "    [\"Erebus\", \"Primordial God of Darkness\", \"Shadow\", 13600],\n",
        "    [\"Aether\", \"Primordial God of Light\", \"Orb\", 13700],\n",
        "    [\"Hemera\", \"Primordial Goddess of Day\", \"Sun\", 13800],\n",
        "    [\"Pontus\", \"Primordial God of the Sea\", \"Trident\", 13900]\n",
        "]\n",
        "\n",
        "# Write to greek_goddesses.csv\n",
        "with open(\"greek_goddesses.csv\", \"w\", newline=\"\") as file:\n",
        "    writer = csv.writer(file)\n",
        "    writer.writerows(greek_goddesses_data)\n",
        "\n"
      ],
      "metadata": {
        "id": "c5SIi-UhIyKJ"
      },
      "execution_count": 1,
      "outputs": []
    },
    {
      "cell_type": "markdown",
      "source": [
        "\n",
        "# 1.Merge the data from greek_gods.csv and greek_goddesses.csv based on a common field and create a new table that includes information about both gods and goddesses."
      ],
      "metadata": {
        "id": "32NSWrRCXyqo"
      }
    },
    {
      "cell_type": "code",
      "source": [
        "import pandas as pd\n",
        "\n",
        "# Read data from CSV files\n",
        "greek_gods_df = pd.read_csv(\"greek_gods.csv\")\n",
        "greek_goddesses_df = pd.read_csv(\"greek_goddesses.csv\")\n",
        "\n",
        "greek_gods_df['Type'] = 'God'\n",
        "greek_goddesses_df['Type'] = 'Goddess'\n",
        "\n",
        "# Merge data based on the \"Domain\" field\n",
        "merged_data = pd.merge(greek_gods_df, greek_goddesses_df, on=\"Domain\", how=\"outer\")\n",
        "\n",
        "# Save merged data to a new CSV file\n",
        "merged_data.to_csv(\"merged_gods_and_goddesses.csv\", index=False)\n",
        "print(merged_data)\n",
        "\n",
        "#better way\n",
        "# Append the 'goddess' data into the 'god' dataset\n",
        "greek_gods_df_combined = pd.concat([greek_gods_df, greek_goddesses_df], ignore_index=True)\n",
        "# Fill None values in 'God' column with corresponding 'Goddess' names\n",
        "greek_gods_df_combined['God'] = greek_gods_df_combined['God'].fillna(greek_gods_df_combined['Goddess'])\n",
        "\n",
        "# Drop the 'Goddess' column as it's no longer needed\n",
        "greek_gods_df_combined = greek_gods_df_combined.drop(columns=['Goddess'])\n",
        "# Display the updated 'god' dataset\n",
        "print(greek_gods_df_combined)\n",
        "\n",
        "\n",
        "\n"
      ],
      "metadata": {
        "colab": {
          "base_uri": "https://localhost:8080/"
        },
        "id": "rBet5uSzW6_U",
        "outputId": "f26fbf1a-7174-440a-d9a8-f672b805faf9"
      },
      "execution_count": 10,
      "outputs": [
        {
          "output_type": "stream",
          "name": "stdout",
          "text": [
            "         God                   Domain     Symbol_x    Age_x Type_x  \\\n",
            "0       Zeus         King of the Gods  Thunderbolt  10000.0    God   \n",
            "1   Poseidon           God of the Sea      Trident   9000.0    God   \n",
            "2       Hera        Queen of the Gods      Peacock   8500.0    God   \n",
            "3     Athena        Goddess of Wisdom          Owl   8000.0    God   \n",
            "4      Hades    God of the Underworld       Helmet   9500.0    God   \n",
            "..       ...                      ...          ...      ...    ...   \n",
            "62       NaN    Goddess of the Hearth          NaN      NaN    NaN   \n",
            "63       NaN  Queen of the Underworld          NaN      NaN    NaN   \n",
            "64       NaN  Queen of the Underworld          NaN      NaN    NaN   \n",
            "65       NaN       Goddess of Warfare          NaN      NaN    NaN   \n",
            "66       NaN        Goddess of Spring          NaN      NaN    NaN   \n",
            "\n",
            "       Goddess     Symbol_y   Age_y   Type_y  \n",
            "0          NaN          NaN     NaN      NaN  \n",
            "1          NaN          NaN     NaN      NaN  \n",
            "2          NaN          NaN     NaN      NaN  \n",
            "3          NaN          NaN     NaN      NaN  \n",
            "4          NaN          NaN     NaN      NaN  \n",
            "..         ...          ...     ...      ...  \n",
            "62      Hestia         Fire  8200.0  Goddess  \n",
            "63  Persephone  Pomegranate  7800.0  Goddess  \n",
            "64  Persephone  Pomegranate  7800.0  Goddess  \n",
            "65      Athena        Aegis  8000.0  Goddess  \n",
            "66  Persephone      Flowers  7800.0  Goddess  \n",
            "\n",
            "[67 rows x 9 columns]\n",
            "          God                       Domain       Symbol    Age     Type\n",
            "0        Zeus             King of the Gods  Thunderbolt  10000      God\n",
            "1    Poseidon               God of the Sea      Trident   9000      God\n",
            "2        Hera            Queen of the Gods      Peacock   8500      God\n",
            "3      Athena            Goddess of Wisdom          Owl   8000      God\n",
            "4       Hades        God of the Underworld       Helmet   9500      God\n",
            "..        ...                          ...          ...    ...      ...\n",
            "98        Nyx  Primordial Goddess of Night         Moon  13500  Goddess\n",
            "99     Erebus   Primordial God of Darkness       Shadow  13600  Goddess\n",
            "100    Aether      Primordial God of Light          Orb  13700  Goddess\n",
            "101    Hemera    Primordial Goddess of Day          Sun  13800  Goddess\n",
            "102    Pontus    Primordial God of the Sea      Trident  13900  Goddess\n",
            "\n",
            "[103 rows x 5 columns]\n"
          ]
        }
      ]
    },
    {
      "cell_type": "markdown",
      "source": [
        "# 2. Filter the merged table to only include gods and goddesses who are older than 8000 years, then sort them based on their ages in descending order.\n"
      ],
      "metadata": {
        "id": "IUDSj80JXxsY"
      }
    },
    {
      "cell_type": "code",
      "source": [
        "\n",
        "# Filter for ages greater than 8000\n",
        "filtered_data = greek_gods_df_combined[greek_gods_df_combined['Age'] > 8000]\n",
        "\n",
        "# Sort the filtered data by age in descending order\n",
        "sorted_data = filtered_data.sort_values(by='Age', ascending=False)\n",
        "\n",
        "# Display the result\n",
        "print(sorted_data)\n"
      ],
      "metadata": {
        "colab": {
          "base_uri": "https://localhost:8080/"
        },
        "id": "1UDxpaIOIn0C",
        "outputId": "dd7a99c2-35b9-4529-ce51-a083d52195de"
      },
      "execution_count": 11,
      "outputs": [
        {
          "output_type": "stream",
          "name": "stdout",
          "text": [
            "            God                       Domain    Symbol    Age     Type\n",
            "102      Pontus    Primordial God of the Sea   Trident  13900  Goddess\n",
            "54       Pontus    Primordial God of the Sea   Trident  13900      God\n",
            "101      Hemera    Primordial Goddess of Day       Sun  13800  Goddess\n",
            "53       Hemera    Primordial Goddess of Day       Sun  13800      God\n",
            "100      Aether      Primordial God of Light       Orb  13700  Goddess\n",
            "..          ...                          ...       ...    ...      ...\n",
            "67       Hecate             Goddess of Magic     Torch   8400  Goddess\n",
            "9    Hephaestus  God of Fire and Blacksmiths    Hammer   8300      God\n",
            "65       Hestia        Goddess of the Hearth      Fire   8200  Goddess\n",
            "7        Hermes  God of Trade and Messengers  Caduceus   8200      God\n",
            "58       Hestia        Goddess of the Hearth      Fire   8200  Goddess\n",
            "\n",
            "[89 rows x 5 columns]\n"
          ]
        }
      ]
    },
    {
      "cell_type": "markdown",
      "source": [
        "# 3. Join the two tables based on the \"Domain\" field and calculate the average age of gods and goddesses in each domain."
      ],
      "metadata": {
        "id": "3q8qpTp9JXjO"
      }
    },
    {
      "cell_type": "code",
      "source": [
        "# Merge the DataFrames based on 'Domain' column\n",
        "merged_data = pd.merge(greek_gods_df, greek_goddesses_df, on=\"Domain\", how=\"outer\", suffixes=('_god', '_goddess'))\n",
        "\n",
        "# print(merged_data)\n",
        "\n",
        "# Calculate average age for each domain\n",
        "avg_age_by_domain = merged_data.groupby('Domain')[['Age_god', 'Age_goddess']].mean()\n",
        "\n",
        "# Rename the columns for clarity\n",
        "avg_age_by_domain = avg_age_by_domain.rename(columns={'Age_god': 'Average Age (Gods)', 'Age_goddess': 'Average Age (Goddesses)'})\n",
        "\n",
        "# Display the result\n",
        "print(avg_age_by_domain)\n"
      ],
      "metadata": {
        "colab": {
          "base_uri": "https://localhost:8080/"
        },
        "id": "iSjdsEjEJSQr",
        "outputId": "3256f7f0-003b-421b-b85d-ceb0925eea04"
      },
      "execution_count": 12,
      "outputs": [
        {
          "output_type": "stream",
          "name": "stdout",
          "text": [
            "                             Average Age (Gods)  Average Age (Goddesses)\n",
            "Domain                                                                  \n",
            "God of Fire and Blacksmiths              8300.0                      NaN\n",
            "God of Love                              7600.0                      NaN\n",
            "God of Time                              9000.0                      NaN\n",
            "God of Trade and Messengers              8200.0                      NaN\n",
            "God of War                               8600.0                      NaN\n",
            "...                                         ...                      ...\n",
            "Titaness of Memory                      10000.0                  10000.0\n",
            "Titaness of Prophecy                    10400.0                  10400.0\n",
            "Titaness of Sight                       10200.0                  10200.0\n",
            "Titaness of the Moon                    10300.0                  10300.0\n",
            "Titaness of the Sea                      9900.0                   9900.0\n",
            "\n",
            "[62 rows x 2 columns]\n"
          ]
        }
      ]
    },
    {
      "cell_type": "markdown",
      "source": [
        "# 4. Determine which god/goddess has the highest age, and then find out if they are a god or a goddess."
      ],
      "metadata": {
        "id": "pVkW5QzPKKjT"
      }
    },
    {
      "cell_type": "code",
      "source": [
        "# Find the entry with the highest age\n",
        "max_age_entry = greek_gods_df_combined.loc[greek_gods_df_combined['Age'].idxmax()]\n",
        "print(max_age_entry)\n",
        "\n",
        "\n",
        "# Print the result\n",
        "print(\"The god/goddess with the highest age is:\", max_age_entry['God'])\n",
        "# print(\"They are a\", entity_type)\n"
      ],
      "metadata": {
        "colab": {
          "base_uri": "https://localhost:8080/"
        },
        "id": "asG4gzhyKJ69",
        "outputId": "12798b71-163f-4587-d8f8-2f1e9055f4e6"
      },
      "execution_count": 13,
      "outputs": [
        {
          "output_type": "stream",
          "name": "stdout",
          "text": [
            "God                          Pontus\n",
            "Domain    Primordial God of the Sea\n",
            "Symbol                      Trident\n",
            "Age                           13900\n",
            "Type                            God\n",
            "Name: 54, dtype: object\n",
            "The god/goddess with the highest age is: Pontus\n"
          ]
        }
      ]
    },
    {
      "cell_type": "markdown",
      "source": [
        "# 5. Create new column in each table called \"Age_Group\" and categorize the gods/goddesses into groups such as \"Young\" (age< 5000), \"Middle-aged\" (age between 5000 and 8000), and \"Old\" (age > 8000)."
      ],
      "metadata": {
        "id": "Yuykmoq4OBAB"
      }
    },
    {
      "cell_type": "code",
      "source": [
        "def categorize_age(age):\n",
        "    if age < 5000:\n",
        "        return \"Young\"\n",
        "    elif 5000 <= age <= 8000:\n",
        "        return \"Middle-aged\"\n",
        "    else:\n",
        "        return \"Old\"\n",
        "\n",
        "# Add a new column 'Age_Group' to categorize age\n",
        "# greek_gods_df['Age_Group'] = greek_gods_df['Age'].apply(categorize_age)\n",
        "# greek_goddesses_df['Age_Group'] = greek_goddesses_df['Age'].apply(categorize_age)\n",
        "\n",
        "#in one line\n",
        "greek_gods_df_combined['Age_Group'] = greek_gods_df_combined['Age'].apply(categorize_age)\n",
        "print(greek_gods_df_combined)\n",
        "# # Display the updated DataFrames\n",
        "# print(\"Greek Gods DataFrame with Age_Group column:\")\n",
        "# print(greek_gods_df)\n",
        "\n",
        "# print(\"\\nGreek Goddesses DataFrame with Age_Group column:\")\n",
        "# print(greek_goddesses_df)\n"
      ],
      "metadata": {
        "colab": {
          "base_uri": "https://localhost:8080/"
        },
        "id": "q7fHWcvAOAxt",
        "outputId": "ab5b2357-2e5d-46af-a143-a8882d72da9d"
      },
      "execution_count": 14,
      "outputs": [
        {
          "output_type": "stream",
          "name": "stdout",
          "text": [
            "          God                       Domain       Symbol    Age     Type  \\\n",
            "0        Zeus             King of the Gods  Thunderbolt  10000      God   \n",
            "1    Poseidon               God of the Sea      Trident   9000      God   \n",
            "2        Hera            Queen of the Gods      Peacock   8500      God   \n",
            "3      Athena            Goddess of Wisdom          Owl   8000      God   \n",
            "4       Hades        God of the Underworld       Helmet   9500      God   \n",
            "..        ...                          ...          ...    ...      ...   \n",
            "98        Nyx  Primordial Goddess of Night         Moon  13500  Goddess   \n",
            "99     Erebus   Primordial God of Darkness       Shadow  13600  Goddess   \n",
            "100    Aether      Primordial God of Light          Orb  13700  Goddess   \n",
            "101    Hemera    Primordial Goddess of Day          Sun  13800  Goddess   \n",
            "102    Pontus    Primordial God of the Sea      Trident  13900  Goddess   \n",
            "\n",
            "       Age_Group  \n",
            "0            Old  \n",
            "1            Old  \n",
            "2            Old  \n",
            "3    Middle-aged  \n",
            "4            Old  \n",
            "..           ...  \n",
            "98           Old  \n",
            "99           Old  \n",
            "100          Old  \n",
            "101          Old  \n",
            "102          Old  \n",
            "\n",
            "[103 rows x 6 columns]\n"
          ]
        }
      ]
    },
    {
      "cell_type": "markdown",
      "source": [
        "# 6. Compare the average ages of gods and goddesses. Is there a significant age difference between them? If yes, which group tends to be older?"
      ],
      "metadata": {
        "id": "rC1X8LWoOqdt"
      }
    },
    {
      "cell_type": "code",
      "source": [
        "# Calculate average age for gods and goddesses\n",
        "avg_age_gods = greek_gods_df['Age'].mean()\n",
        "avg_age_goddesses = greek_goddesses_df['Age'].mean()\n",
        "\n",
        "# Print the average ages\n",
        "print(\"Average age of gods:\", avg_age_gods)\n",
        "print(\"Average age of goddesses:\", avg_age_goddesses)\n",
        "\n",
        "# Determine if there is a significant age difference\n",
        "if avg_age_gods > avg_age_goddesses:\n",
        "    print(\"Gods tend to be older.\")\n",
        "elif avg_age_gods < avg_age_goddesses:\n",
        "    print(\"Goddesses tend to be older.\")\n",
        "else:\n",
        "    print(\"There is no significant age difference between gods and goddesses.\")\n"
      ],
      "metadata": {
        "colab": {
          "base_uri": "https://localhost:8080/"
        },
        "id": "yY-ah2KiOqUl",
        "outputId": "2c8c9e36-0c82-47f4-a5e4-0575e3a91fb4"
      },
      "execution_count": 15,
      "outputs": [
        {
          "output_type": "stream",
          "name": "stdout",
          "text": [
            "Average age of gods: 10660.0\n",
            "Average age of goddesses: 10493.75\n",
            "Gods tend to be older.\n"
          ]
        }
      ]
    },
    {
      "cell_type": "markdown",
      "source": [
        "# 7. Write a Python program using for loop to iterate over the \"Age\" column of the merged table (after merging the gods and goddesses tables) and print out the names of gods/goddesses who are older than 8000 years."
      ],
      "metadata": {
        "id": "cSxklGRfPBhg"
      }
    },
    {
      "cell_type": "code",
      "source": [
        "# Iterate over the \"Age\" column and print names of gods/goddesses older than 8000 years\n",
        "for index, row in greek_gods_df_combined.iterrows():\n",
        "    if row['Age'] > 8000:\n",
        "        print(row['God'], \"-\", row['Type'])"
      ],
      "metadata": {
        "colab": {
          "base_uri": "https://localhost:8080/"
        },
        "id": "j8qk0L08PA-V",
        "outputId": "31596dad-0b9c-437b-8994-32674caa7b2f"
      },
      "execution_count": 16,
      "outputs": [
        {
          "output_type": "stream",
          "name": "stdout",
          "text": [
            "Zeus - God\n",
            "Poseidon - God\n",
            "Hera - God\n",
            "Hades - God\n",
            "Apollo - God\n",
            "Hermes - God\n",
            "Ares - God\n",
            "Hephaestus - God\n",
            "Chronos - God\n",
            "Uranus - God\n",
            "Cronus - God\n",
            "Atlas - God\n",
            "Prometheus - God\n",
            "Epimetheus - God\n",
            "Helios - God\n",
            "Hecate - God\n",
            "Nemesis - God\n",
            "Nike - God\n",
            "Tyche - God\n",
            "Eirene - God\n",
            "Ananke - God\n",
            "Theia - God\n",
            "Selene - God\n",
            "Phoebe - God\n",
            "Rhea - God\n",
            "Mnemosyne - God\n",
            "Tethys - God\n",
            "Oceanus - God\n",
            "Coeus - God\n",
            "Crius - God\n",
            "Iapetus - God\n",
            "Phanes - God\n",
            "Eros - God\n",
            "Aether - God\n",
            "Tartarus - God\n",
            "Gaea - God\n",
            "Uranus - God\n",
            "Nyxt - God\n",
            "Hemera - God\n",
            "Pontus - God\n",
            "Thanatos - God\n",
            "Erebos - God\n",
            "Eros - God\n",
            "Tartarus - God\n",
            "Gaia - God\n",
            "Uranus - God\n",
            "Nyx - God\n",
            "Erebus - God\n",
            "Aether - God\n",
            "Hemera - God\n",
            "Pontus - God\n",
            "Hestia - Goddess\n",
            "Hestia - Goddess\n",
            "Hecate - Goddess\n",
            "Nemesis - Goddess\n",
            "Nike - Goddess\n",
            "Tyche - Goddess\n",
            "Eirene - Goddess\n",
            "Ananke - Goddess\n",
            "Theia - Goddess\n",
            "Selene - Goddess\n",
            "Phoebe - Goddess\n",
            "Rhea - Goddess\n",
            "Mnemosyne - Goddess\n",
            "Tethys - Goddess\n",
            "Oceanus - Goddess\n",
            "Coeus - Goddess\n",
            "Crius - Goddess\n",
            "Iapetus - Goddess\n",
            "Phanes - Goddess\n",
            "Eros - Goddess\n",
            "Aether - Goddess\n",
            "Tartarus - Goddess\n",
            "Gaea - Goddess\n",
            "Uranus - Goddess\n",
            "Nyxt - Goddess\n",
            "Hemera - Goddess\n",
            "Pontus - Goddess\n",
            "Thanatos - Goddess\n",
            "Erebos - Goddess\n",
            "Eros - Goddess\n",
            "Tartarus - Goddess\n",
            "Gaia - Goddess\n",
            "Uranus - Goddess\n",
            "Nyx - Goddess\n",
            "Erebus - Goddess\n",
            "Aether - Goddess\n",
            "Hemera - Goddess\n",
            "Pontus - Goddess\n"
          ]
        }
      ]
    },
    {
      "cell_type": "markdown",
      "source": [
        "# 8. Write a Python program to find the oldest god/goddess from the merged table (after merging the gods and goddesses tables) by iterating through the \"Age\" column using a while loop. Print out the name of the oldest god/goddess and their age."
      ],
      "metadata": {
        "id": "LCT-lSoYPxv9"
      }
    },
    {
      "cell_type": "code",
      "source": [
        "# Initialize variables to store information about the oldest god/goddess\n",
        "oldest_name = None\n",
        "oldest_age = float('-inf')\n",
        "\n",
        "# Iterate through the \"Age\" column using a while loop\n",
        "index = 0\n",
        "while index < len(greek_gods_df_combined):\n",
        "    age = greek_gods_df_combined.iloc[index]['Age']\n",
        "    if age > oldest_age:\n",
        "        oldest_age = age\n",
        "        oldest_name = greek_gods_df_combined.iloc[index]['God' if greek_gods_df_combined.iloc[index]['Type'] == 'God' else 'Goddess']\n",
        "    index += 1\n",
        "\n",
        "# Print the name of the oldest god/goddess and their age\n",
        "print(\"The oldest god/goddess is:\", oldest_name)\n",
        "print(\"Their age is:\", oldest_age)\n"
      ],
      "metadata": {
        "colab": {
          "base_uri": "https://localhost:8080/"
        },
        "id": "jL-QQFDQPxGT",
        "outputId": "652c18ac-d353-4273-cd88-12d82655125f"
      },
      "execution_count": 17,
      "outputs": [
        {
          "output_type": "stream",
          "name": "stdout",
          "text": [
            "The oldest god/goddess is: Pontus\n",
            "Their age is: 13900\n"
          ]
        }
      ]
    }
  ]
}