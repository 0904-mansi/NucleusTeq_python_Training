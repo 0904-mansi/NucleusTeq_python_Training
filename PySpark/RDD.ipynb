{
  "nbformat": 4,
  "nbformat_minor": 0,
  "metadata": {
    "colab": {
      "provenance": []
    },
    "kernelspec": {
      "name": "python3",
      "display_name": "Python 3"
    },
    "language_info": {
      "name": "python"
    }
  },
  "cells": [
    {
      "cell_type": "code",
      "source": [
        "pip install pyspark"
      ],
      "metadata": {
        "colab": {
          "base_uri": "https://localhost:8080/"
        },
        "id": "poJUkHC14bCJ",
        "outputId": "2f01534f-04c0-4d26-d800-7e977680f672"
      },
      "execution_count": 3,
      "outputs": [
        {
          "output_type": "stream",
          "name": "stdout",
          "text": [
            "Collecting pyspark\n",
            "  Downloading pyspark-3.5.1.tar.gz (317.0 MB)\n",
            "\u001b[2K     \u001b[90m━━━━━━━━━━━━━━━━━━━━━━━━━━━━━━━━━━━━━━━━\u001b[0m \u001b[32m317.0/317.0 MB\u001b[0m \u001b[31m2.5 MB/s\u001b[0m eta \u001b[36m0:00:00\u001b[0m\n",
            "\u001b[?25h  Preparing metadata (setup.py) ... \u001b[?25l\u001b[?25hdone\n",
            "Requirement already satisfied: py4j==0.10.9.7 in /usr/local/lib/python3.10/dist-packages (from pyspark) (0.10.9.7)\n",
            "Building wheels for collected packages: pyspark\n",
            "  Building wheel for pyspark (setup.py) ... \u001b[?25l\u001b[?25hdone\n",
            "  Created wheel for pyspark: filename=pyspark-3.5.1-py2.py3-none-any.whl size=317488491 sha256=3a4978986a3fa3caeffb0fb13054318be99ac611c0a68bfdea90c71a8e5df84c\n",
            "  Stored in directory: /root/.cache/pip/wheels/80/1d/60/2c256ed38dddce2fdd93be545214a63e02fbd8d74fb0b7f3a6\n",
            "Successfully built pyspark\n",
            "Installing collected packages: pyspark\n",
            "Successfully installed pyspark-3.5.1\n"
          ]
        }
      ]
    },
    {
      "cell_type": "code",
      "execution_count": 5,
      "metadata": {
        "id": "yeO62Idq33KR"
      },
      "outputs": [],
      "source": [
        "from pyspark import SparkContext, SparkConf\n",
        "\n",
        "# Initialize Spark\n",
        "conf = SparkConf().setAppName(\"RDD_Example\").setMaster(\"local[*]\")\n",
        "sc = SparkContext(conf=conf)\n",
        "\n",
        "# Create a dummy dataset\n",
        "books_data = [\n",
        "    (\"Python Basics\", \"John Doe\", 2020, 25.99, [\"Programming\", \"Beginner\"]),\n",
        "    (\"Advanced Java\", \"Jane Smith\", 2019, 34.99, [\"Programming\", \"Advanced\"]),\n",
        "    (\"Data Science Essentials\", \"Bob Johnson\", 2021, 29.99, [\"Data Science\", \"Intermediate\"]),\n",
        "    (\"Machine Learning 101\", \"Alice Brown\", 2020, 27.99, [\"ML\", \"Beginner\"]),\n",
        "    (\"Deep Learning Advanced\", \"Charlie Wilson\", 2021, 39.99, [\"ML\", \"Advanced\"]),\n",
        "    (\"SQL Mastery\", \"Eve Davis\", 2018, 22.99, [\"Database\", \"Advanced\"]),\n",
        "    (\"Web Development Fundamentals\", \"Frank Miller\", 2019, 24.99, [\"Web\", \"Beginner\"]),\n",
        "    (\"Cloud Computing Basics\", \"Grace Lee\", 2020, 26.99, [\"Cloud\", \"Beginner\"]),\n",
        "    (\"Artificial Intelligence\", \"Henry Taylor\", 2021, 36.99, [\"AI\", \"Intermediate\"]),\n",
        "    (\"Cybersecurity Essentials\", \"Ivy Chen\", 2020, 28.99, [\"Security\", \"Intermediate\"])\n",
        "]\n"
      ]
    },
    {
      "cell_type": "code",
      "source": [
        "books_data"
      ],
      "metadata": {
        "id": "QmvAvAqQ5EMQ",
        "outputId": "b978f89a-c829-4491-ba95-0cf79a7e2262",
        "colab": {
          "base_uri": "https://localhost:8080/"
        }
      },
      "execution_count": 16,
      "outputs": [
        {
          "output_type": "execute_result",
          "data": {
            "text/plain": [
              "[('Python Basics', 'John Doe', 2020, 25.99, ['Programming', 'Beginner']),\n",
              " ('Advanced Java', 'Jane Smith', 2019, 34.99, ['Programming', 'Advanced']),\n",
              " ('Data Science Essentials',\n",
              "  'Bob Johnson',\n",
              "  2021,\n",
              "  29.99,\n",
              "  ['Data Science', 'Intermediate']),\n",
              " ('Machine Learning 101', 'Alice Brown', 2020, 27.99, ['ML', 'Beginner']),\n",
              " ('Deep Learning Advanced', 'Charlie Wilson', 2021, 39.99, ['ML', 'Advanced']),\n",
              " ('SQL Mastery', 'Eve Davis', 2018, 22.99, ['Database', 'Advanced']),\n",
              " ('Web Development Fundamentals',\n",
              "  'Frank Miller',\n",
              "  2019,\n",
              "  24.99,\n",
              "  ['Web', 'Beginner']),\n",
              " ('Cloud Computing Basics', 'Grace Lee', 2020, 26.99, ['Cloud', 'Beginner']),\n",
              " ('Artificial Intelligence',\n",
              "  'Henry Taylor',\n",
              "  2021,\n",
              "  36.99,\n",
              "  ['AI', 'Intermediate']),\n",
              " ('Cybersecurity Essentials',\n",
              "  'Ivy Chen',\n",
              "  2020,\n",
              "  28.99,\n",
              "  ['Security', 'Intermediate'])]"
            ]
          },
          "metadata": {},
          "execution_count": 16
        }
      ]
    },
    {
      "cell_type": "code",
      "source": [
        "#Create an RDD\n",
        "books_rdd = sc.parallelize(books_data)\n",
        "\n",
        "# Map: Extract book titles\n",
        "titles_rdd = books_rdd.map(lambda x: x[0])\n",
        "print(\"Book Titles:\", titles_rdd.collect())"
      ],
      "metadata": {
        "colab": {
          "base_uri": "https://localhost:8080/"
        },
        "id": "ioBS8BBG3_zr",
        "outputId": "4fd1dfc3-9ed7-4a99-af41-d9df595acd5f"
      },
      "execution_count": 6,
      "outputs": [
        {
          "output_type": "stream",
          "name": "stdout",
          "text": [
            "Book Titles: ['Python Basics', 'Advanced Java', 'Data Science Essentials', 'Machine Learning 101', 'Deep Learning Advanced', 'SQL Mastery', 'Web Development Fundamentals', 'Cloud Computing Basics', 'Artificial Intelligence', 'Cybersecurity Essentials']\n"
          ]
        }
      ]
    },
    {
      "cell_type": "code",
      "source": [
        "# Filter: Get books published in 2020\n",
        "books_2020 = books_rdd.filter(lambda x: x[2] == 2020)\n",
        "print(\"Books published in 2020:\", books_2020.collect())"
      ],
      "metadata": {
        "colab": {
          "base_uri": "https://localhost:8080/"
        },
        "id": "h9QMWz954GwM",
        "outputId": "454cefd7-ce4b-4cf8-8bd8-cf495f8dd86a"
      },
      "execution_count": 7,
      "outputs": [
        {
          "output_type": "stream",
          "name": "stdout",
          "text": [
            "Books published in 2020: [('Python Basics', 'John Doe', 2020, 25.99, ['Programming', 'Beginner']), ('Machine Learning 101', 'Alice Brown', 2020, 27.99, ['ML', 'Beginner']), ('Cloud Computing Basics', 'Grace Lee', 2020, 26.99, ['Cloud', 'Beginner']), ('Cybersecurity Essentials', 'Ivy Chen', 2020, 28.99, ['Security', 'Intermediate'])]\n"
          ]
        }
      ]
    },
    {
      "cell_type": "code",
      "source": [
        "\n",
        "# FlatMap: Get all tags\n",
        "all_tags = books_rdd.flatMap(lambda x: x[4])\n",
        "print(\"All tags:\", all_tags.distinct().collect())\n",
        "print(\"Total number of books:\", books_rdd.count())\n",
        "total_price = books_rdd.map(lambda x: x[3]).reduce(lambda x, y: x + y)\n",
        "print(\"Total price of all books:\", total_price)\n",
        "\n"
      ],
      "metadata": {
        "colab": {
          "base_uri": "https://localhost:8080/"
        },
        "id": "JXqOzOSX4H2Q",
        "outputId": "427af78a-f509-4153-c902-ee60640e3a73"
      },
      "execution_count": 8,
      "outputs": [
        {
          "output_type": "stream",
          "name": "stdout",
          "text": [
            "All tags: ['Programming', 'Cloud', 'Security', 'Beginner', 'Advanced', 'Data Science', 'Intermediate', 'ML', 'Database', 'Web', 'AI']\n",
            "Total number of books: 10\n",
            "Total price of all books: 299.9\n"
          ]
        }
      ]
    },
    {
      "cell_type": "code",
      "source": [
        "# Create a key-value RDD with author as key\n",
        "author_books = books_rdd.map(lambda x: (x[1], x[0]))\n",
        "\n",
        "# GroupByKey: Group books by author\n",
        "books_by_author = author_books.groupByKey()\n",
        "print(\"Books grouped by author:\", books_by_author.mapValues(list).collect())\n",
        "\n",
        "# ReduceByKey: Count books per author\n",
        "books_count_by_author = author_books.mapValues(lambda x: 1).reduceByKey(lambda x, y: x + y)\n",
        "print(\"Number of books per author:\", books_count_by_author.collect())\n"
      ],
      "metadata": {
        "colab": {
          "base_uri": "https://localhost:8080/"
        },
        "id": "EXDCwZLJ4Hr0",
        "outputId": "0872ea30-72e7-43f2-efce-e1aba3ccc572"
      },
      "execution_count": 10,
      "outputs": [
        {
          "output_type": "stream",
          "name": "stdout",
          "text": [
            "Books grouped by author: [('Jane Smith', ['Advanced Java']), ('Bob Johnson', ['Data Science Essentials']), ('Charlie Wilson', ['Deep Learning Advanced']), ('Frank Miller', ['Web Development Fundamentals']), ('Henry Taylor', ['Artificial Intelligence']), ('John Doe', ['Python Basics']), ('Alice Brown', ['Machine Learning 101']), ('Eve Davis', ['SQL Mastery']), ('Grace Lee', ['Cloud Computing Basics']), ('Ivy Chen', ['Cybersecurity Essentials'])]\n",
            "Number of books per author: [('Jane Smith', 1), ('Bob Johnson', 1), ('Charlie Wilson', 1), ('Frank Miller', 1), ('Henry Taylor', 1), ('John Doe', 1), ('Alice Brown', 1), ('Eve Davis', 1), ('Grace Lee', 1), ('Ivy Chen', 1)]\n"
          ]
        }
      ]
    },
    {
      "cell_type": "code",
      "source": [
        "# Join: Join book titles with their prices\n",
        "titles_prices = books_rdd.map(lambda x: (x[0], x[3]))\n",
        "joined_data = titles_rdd.zip(titles_prices)\n",
        "print(\"Joined data (title, (title, price)):\", joined_data.collect())\n",
        "\n",
        "# Aggregate: Find average price of books\n",
        "initial_value = (0, 0)  # (sum, count)\n",
        "seqOp = lambda acc, value: (acc[0] + value[3], acc[1] + 1)\n",
        "combOp = lambda acc1, acc2: (acc1[0] + acc2[0], acc1[1] + acc2[1])\n",
        "sum_count = books_rdd.aggregate(initial_value, seqOp, combOp)\n",
        "avg_price = sum_count[0] / sum_count[1]\n",
        "print(\"Average book price:\", avg_price)\n",
        "\n",
        "# Custom Partitioning\n",
        "def custom_partitioner(key):\n",
        "    if \"Programming\" in key:\n",
        "        return 0\n",
        "    elif \"Data Science\" in key or \"ML\" in key:\n",
        "        return 1\n",
        "    else:\n",
        "        return 2\n",
        "\n",
        "# Repartition the data based on categories\n",
        "categorized_books = books_rdd.map(lambda x: (x[4][0], x))\n",
        "partitioned_books = categorized_books.partitionBy(3, custom_partitioner)\n",
        "\n",
        "# Show the partitions\n",
        "for i in range(3):\n",
        "    print(f\"Partition {i}:\", partitioned_books.glom().collect()[i])\n"
      ],
      "metadata": {
        "colab": {
          "base_uri": "https://localhost:8080/"
        },
        "id": "6tHp8fBg4Hnu",
        "outputId": "894b0345-694d-4aed-f69b-bb55ffa17f50"
      },
      "execution_count": 11,
      "outputs": [
        {
          "output_type": "stream",
          "name": "stdout",
          "text": [
            "Joined data (title, (title, price)): [('Python Basics', ('Python Basics', 25.99)), ('Advanced Java', ('Advanced Java', 34.99)), ('Data Science Essentials', ('Data Science Essentials', 29.99)), ('Machine Learning 101', ('Machine Learning 101', 27.99)), ('Deep Learning Advanced', ('Deep Learning Advanced', 39.99)), ('SQL Mastery', ('SQL Mastery', 22.99)), ('Web Development Fundamentals', ('Web Development Fundamentals', 24.99)), ('Cloud Computing Basics', ('Cloud Computing Basics', 26.99)), ('Artificial Intelligence', ('Artificial Intelligence', 36.99)), ('Cybersecurity Essentials', ('Cybersecurity Essentials', 28.99))]\n",
            "Average book price: 29.99\n",
            "Partition 0: [('Programming', ('Python Basics', 'John Doe', 2020, 25.99, ['Programming', 'Beginner'])), ('Programming', ('Advanced Java', 'Jane Smith', 2019, 34.99, ['Programming', 'Advanced']))]\n",
            "Partition 1: [('Data Science', ('Data Science Essentials', 'Bob Johnson', 2021, 29.99, ['Data Science', 'Intermediate'])), ('ML', ('Machine Learning 101', 'Alice Brown', 2020, 27.99, ['ML', 'Beginner'])), ('ML', ('Deep Learning Advanced', 'Charlie Wilson', 2021, 39.99, ['ML', 'Advanced']))]\n",
            "Partition 2: [('Database', ('SQL Mastery', 'Eve Davis', 2018, 22.99, ['Database', 'Advanced'])), ('Web', ('Web Development Fundamentals', 'Frank Miller', 2019, 24.99, ['Web', 'Beginner'])), ('Cloud', ('Cloud Computing Basics', 'Grace Lee', 2020, 26.99, ['Cloud', 'Beginner'])), ('AI', ('Artificial Intelligence', 'Henry Taylor', 2021, 36.99, ['AI', 'Intermediate'])), ('Security', ('Cybersecurity Essentials', 'Ivy Chen', 2020, 28.99, ['Security', 'Intermediate']))]\n"
          ]
        }
      ]
    },
    {
      "cell_type": "code",
      "source": [
        "\n",
        "books_rdd.cache()\n",
        "\n",
        "author_nationality = sc.broadcast({\"John Doe\": \"USA\", \"Jane Smith\": \"UK\", \"Bob Johnson\": \"Canada\"})\n",
        "\n",
        "def add_nationality(book):\n",
        "    author = book[1]\n",
        "    nationality = author_nationality.value.get(author, \"Unknown\")\n",
        "    return book + (nationality,)\n",
        "\n",
        "books_with_nationality = books_rdd.map(add_nationality)\n",
        "print(\"Books with author nationality:\", books_with_nationality.take(3))\n",
        "\n"
      ],
      "metadata": {
        "colab": {
          "base_uri": "https://localhost:8080/"
        },
        "id": "HjCjq9WF4Hju",
        "outputId": "9c0d415e-a39a-4f76-af05-78ffc3235147"
      },
      "execution_count": 14,
      "outputs": [
        {
          "output_type": "stream",
          "name": "stdout",
          "text": [
            "Books with author nationality: [('Python Basics', 'John Doe', 2020, 25.99, ['Programming', 'Beginner'], 'USA'), ('Advanced Java', 'Jane Smith', 2019, 34.99, ['Programming', 'Advanced'], 'UK'), ('Data Science Essentials', 'Bob Johnson', 2021, 29.99, ['Data Science', 'Intermediate'], 'Canada')]\n"
          ]
        }
      ]
    },
    {
      "cell_type": "code",
      "source": [
        "# Clean up\n",
        "sc.stop()"
      ],
      "metadata": {
        "id": "gGroRG6c4HfV"
      },
      "execution_count": 15,
      "outputs": []
    },
    {
      "cell_type": "code",
      "source": [],
      "metadata": {
        "id": "Uvzk6GMe4_Es"
      },
      "execution_count": null,
      "outputs": []
    }
  ]
}