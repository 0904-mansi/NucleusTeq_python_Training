{
  "nbformat": 4,
  "nbformat_minor": 0,
  "metadata": {
    "colab": {
      "provenance": []
    },
    "kernelspec": {
      "name": "python3",
      "display_name": "Python 3"
    },
    "language_info": {
      "name": "python"
    }
  },
  "cells": [
    {
      "cell_type": "code",
      "source": [
        "\n",
        "from google.colab import drive\n",
        "drive.mount('/content/drive')\n"
      ],
      "metadata": {
        "colab": {
          "base_uri": "https://localhost:8080/"
        },
        "id": "iSnlhzVu3bdn",
        "outputId": "faa8c729-8b9b-43b2-9020-09aa39379498"
      },
      "execution_count": 6,
      "outputs": [
        {
          "output_type": "stream",
          "name": "stdout",
          "text": [
            "Mounted at /content/drive\n"
          ]
        }
      ]
    },
    {
      "cell_type": "code",
      "execution_count": 1,
      "metadata": {
        "colab": {
          "base_uri": "https://localhost:8080/"
        },
        "id": "CvJUgjr_0kzZ",
        "outputId": "1f567e10-4cdf-4937-8d15-0bcb86625a10"
      },
      "outputs": [
        {
          "output_type": "stream",
          "name": "stdout",
          "text": [
            "Collecting pyspark\n",
            "  Downloading pyspark-3.5.1.tar.gz (317.0 MB)\n",
            "\u001b[2K     \u001b[90m━━━━━━━━━━━━━━━━━━━━━━━━━━━━━━━━━━━━━━━━\u001b[0m \u001b[32m317.0/317.0 MB\u001b[0m \u001b[31m1.6 MB/s\u001b[0m eta \u001b[36m0:00:00\u001b[0m\n",
            "\u001b[?25h  Preparing metadata (setup.py) ... \u001b[?25l\u001b[?25hdone\n",
            "Requirement already satisfied: py4j==0.10.9.7 in /usr/local/lib/python3.10/dist-packages (from pyspark) (0.10.9.7)\n",
            "Building wheels for collected packages: pyspark\n",
            "  Building wheel for pyspark (setup.py) ... \u001b[?25l\u001b[?25hdone\n",
            "  Created wheel for pyspark: filename=pyspark-3.5.1-py2.py3-none-any.whl size=317488491 sha256=015b78bc0e9e010355b70d3100f0e8c4d295dc6e4a39ff1743c4b1c4087ca8b7\n",
            "  Stored in directory: /root/.cache/pip/wheels/80/1d/60/2c256ed38dddce2fdd93be545214a63e02fbd8d74fb0b7f3a6\n",
            "Successfully built pyspark\n",
            "Installing collected packages: pyspark\n",
            "Successfully installed pyspark-3.5.1\n"
          ]
        }
      ],
      "source": [
        "!pip install pyspark"
      ]
    },
    {
      "cell_type": "code",
      "source": [
        "import pyspark\n",
        "from pyspark.sql import SparkSession\n",
        "import pandas as pd\n",
        "from pyspark.sql.functions import lit\n",
        "from pyspark.ml.feature import Imputer"
      ],
      "metadata": {
        "id": "_xVdWu8k2ciN"
      },
      "execution_count": 61,
      "outputs": []
    },
    {
      "cell_type": "code",
      "source": [
        "spark = SparkSession.builder.appName(\"pyspark\").getOrCreate()\n",
        "spark"
      ],
      "metadata": {
        "colab": {
          "base_uri": "https://localhost:8080/",
          "height": 222
        },
        "id": "tDebTBcr2eRJ",
        "outputId": "da6ec26f-305d-45dc-c922-ff6ab97dfb10"
      },
      "execution_count": 5,
      "outputs": [
        {
          "output_type": "execute_result",
          "data": {
            "text/plain": [
              "<pyspark.sql.session.SparkSession at 0x7a717d7e0f10>"
            ],
            "text/html": [
              "\n",
              "            <div>\n",
              "                <p><b>SparkSession - in-memory</b></p>\n",
              "                \n",
              "        <div>\n",
              "            <p><b>SparkContext</b></p>\n",
              "\n",
              "            <p><a href=\"http://1be857787149:4040\">Spark UI</a></p>\n",
              "\n",
              "            <dl>\n",
              "              <dt>Version</dt>\n",
              "                <dd><code>v3.5.1</code></dd>\n",
              "              <dt>Master</dt>\n",
              "                <dd><code>local[*]</code></dd>\n",
              "              <dt>AppName</dt>\n",
              "                <dd><code>pyspark</code></dd>\n",
              "            </dl>\n",
              "        </div>\n",
              "        \n",
              "            </div>\n",
              "        "
            ]
          },
          "metadata": {},
          "execution_count": 5
        }
      ]
    },
    {
      "cell_type": "code",
      "source": [
        "#ways to read csv file using spark session\n",
        "df = spark.read.csv(\"/content/drive/MyDrive/dataset/Zoo.csv\")\n",
        "df = spark.read.csv(\"/content/drive/MyDrive/dataset/Zoo.csv\", header=True)\n",
        "df = spark.read.options(header=True, inferSchema=True).csv('/content/drive/MyDrive/dataset/Zoo.csv')\n",
        "df.show()"
      ],
      "metadata": {
        "colab": {
          "base_uri": "https://localhost:8080/"
        },
        "id": "cuR9kZhc3UQr",
        "outputId": "ed8af74a-4040-4b5a-ba58-4191eafbbd25"
      },
      "execution_count": 19,
      "outputs": [
        {
          "output_type": "stream",
          "name": "stdout",
          "text": [
            "+-----------+----+--------+----+----+--------+-------+--------+-------+--------+--------+--------+----+----+----+--------+-------+----+\n",
            "|animal name|hair|feathers|eggs|milk|airborne|aquatic|predator|toothed|backbone|breathes|venomous|fins|legs|tail|domestic|catsize|type|\n",
            "+-----------+----+--------+----+----+--------+-------+--------+-------+--------+--------+--------+----+----+----+--------+-------+----+\n",
            "|   aardvark|   1|       0|   0|   1|       0|      0|       1|      1|       1|       1|       0|   0|   4|   0|       0|      1|   1|\n",
            "|   antelope|   1|       0|   0|   1|       0|      0|       0|      1|       1|       1|       0|   0|   4|   1|       0|      1|   1|\n",
            "|       bass|   0|       0|   1|   0|       0|      1|       1|      1|       1|       0|       0|   1|   0|   1|       0|      0|   4|\n",
            "|       bear|   1|       0|   0|   1|       0|      0|       1|      1|       1|       1|       0|   0|   4|   0|       0|      1|   1|\n",
            "|       boar|   1|       0|   0|   1|       0|      0|       1|      1|       1|       1|       0|   0|   4|   1|       0|      1|   1|\n",
            "|    buffalo|   1|       0|   0|   1|       0|      0|       0|      1|       1|       1|       0|   0|   4|   1|       0|      1|   1|\n",
            "|       calf|   1|       0|   0|   1|       0|      0|       0|      1|       1|       1|       0|   0|   4|   1|       1|      1|   1|\n",
            "|       carp|   0|       0|   1|   0|       0|      1|       0|      1|       1|       0|       0|   1|   0|   1|       1|      0|   4|\n",
            "|    catfish|   0|       0|   1|   0|       0|      1|       1|      1|       1|       0|       0|   1|   0|   1|       0|      0|   4|\n",
            "|       cavy|   1|       0|   0|   1|       0|      0|       0|      1|       1|       1|       0|   0|   4|   0|       1|      0|   1|\n",
            "|    cheetah|   1|       0|   0|   1|       0|      0|       1|      1|       1|       1|       0|   0|   4|   1|       0|      1|   1|\n",
            "|    chicken|   0|       1|   1|   0|       1|      0|       0|      0|       1|       1|       0|   0|   2|   1|       1|      0|   2|\n",
            "|       chub|   0|       0|   1|   0|       0|      1|       1|      1|       1|       0|       0|   1|   0|   1|       0|      0|   4|\n",
            "|       clam|   0|       0|   1|   0|       0|      0|       1|      0|       0|       0|       0|   0|   0|   0|       0|      0|   7|\n",
            "|       crab|   0|       0|   1|   0|       0|      1|       1|      0|       0|       0|       0|   0|   4|   0|       0|      0|   7|\n",
            "|   crayfish|   0|       0|   1|   0|       0|      1|       1|      0|       0|       0|       0|   0|   6|   0|       0|      0|   7|\n",
            "|       crow|   0|       1|   1|   0|       1|      0|       1|      0|       1|       1|       0|   0|   2|   1|       0|      0|   2|\n",
            "|       deer|   1|       0|   0|   1|       0|      0|       0|      1|       1|       1|       0|   0|   4|   1|       0|      1|   1|\n",
            "|    dogfish|   0|       0|   1|   0|       0|      1|       1|      1|       1|       0|       0|   1|   0|   1|       0|      1|   4|\n",
            "|    dolphin|   0|       0|   0|   1|       0|      1|       1|      1|       1|       1|       0|   1|   0|   1|       0|      1|   1|\n",
            "+-----------+----+--------+----+----+--------+-------+--------+-------+--------+--------+--------+----+----+----+--------+-------+----+\n",
            "only showing top 20 rows\n",
            "\n"
          ]
        }
      ]
    },
    {
      "cell_type": "code",
      "source": [
        "type(df)\n",
        "df.dtypes"
      ],
      "metadata": {
        "colab": {
          "base_uri": "https://localhost:8080/"
        },
        "id": "TTKlYRfp3UND",
        "outputId": "5cd26a00-8fa7-4d8a-c22e-ad6029e39138"
      },
      "execution_count": 28,
      "outputs": [
        {
          "output_type": "execute_result",
          "data": {
            "text/plain": [
              "[('animal name', 'string'),\n",
              " ('hair', 'int'),\n",
              " ('feathers', 'int'),\n",
              " ('eggs', 'int'),\n",
              " ('milk', 'int'),\n",
              " ('airborne', 'int'),\n",
              " ('aquatic', 'int'),\n",
              " ('predator', 'int'),\n",
              " ('toothed', 'int'),\n",
              " ('backbone', 'int'),\n",
              " ('breathes', 'int'),\n",
              " ('venomous', 'int'),\n",
              " ('fins', 'int'),\n",
              " ('legs', 'int'),\n",
              " ('tail', 'int'),\n",
              " ('domestic', 'int'),\n",
              " ('catsize', 'int'),\n",
              " ('type', 'int')]"
            ]
          },
          "metadata": {},
          "execution_count": 28
        }
      ]
    },
    {
      "cell_type": "code",
      "source": [
        "df.printSchema()\n",
        "df.describe()"
      ],
      "metadata": {
        "colab": {
          "base_uri": "https://localhost:8080/"
        },
        "id": "Xw3ObLin5kIW",
        "outputId": "de6189cc-6863-46a5-cab5-4b9d4135df3c"
      },
      "execution_count": 30,
      "outputs": [
        {
          "output_type": "stream",
          "name": "stdout",
          "text": [
            "root\n",
            " |-- animal name: string (nullable = true)\n",
            " |-- hair: integer (nullable = true)\n",
            " |-- feathers: integer (nullable = true)\n",
            " |-- eggs: integer (nullable = true)\n",
            " |-- milk: integer (nullable = true)\n",
            " |-- airborne: integer (nullable = true)\n",
            " |-- aquatic: integer (nullable = true)\n",
            " |-- predator: integer (nullable = true)\n",
            " |-- toothed: integer (nullable = true)\n",
            " |-- backbone: integer (nullable = true)\n",
            " |-- breathes: integer (nullable = true)\n",
            " |-- venomous: integer (nullable = true)\n",
            " |-- fins: integer (nullable = true)\n",
            " |-- legs: integer (nullable = true)\n",
            " |-- tail: integer (nullable = true)\n",
            " |-- domestic: integer (nullable = true)\n",
            " |-- catsize: integer (nullable = true)\n",
            " |-- type: integer (nullable = true)\n",
            "\n"
          ]
        },
        {
          "output_type": "execute_result",
          "data": {
            "text/plain": [
              "DataFrame[summary: string, animal name: string, hair: string, feathers: string, eggs: string, milk: string, airborne: string, aquatic: string, predator: string, toothed: string, backbone: string, breathes: string, venomous: string, fins: string, legs: string, tail: string, domestic: string, catsize: string, type: string]"
            ]
          },
          "metadata": {},
          "execution_count": 30
        }
      ]
    },
    {
      "cell_type": "code",
      "source": [
        "# selecting rows and columns\n",
        "df.columns\n",
        "df.head(5)\n",
        "\n",
        "#selecting single col with values\n",
        "df.select(\"hair\").show()\n",
        "type(df.select(\"hair\"))\n",
        "\n",
        "#selecting multiple col with values\n",
        "df.select([\"hair\", \"legs\"]).show()"
      ],
      "metadata": {
        "colab": {
          "base_uri": "https://localhost:8080/"
        },
        "id": "_33ws84x3T9L",
        "outputId": "cd7b6349-1205-4411-a2ef-e7070733f9da"
      },
      "execution_count": 26,
      "outputs": [
        {
          "output_type": "stream",
          "name": "stdout",
          "text": [
            "+----+\n",
            "|hair|\n",
            "+----+\n",
            "|   1|\n",
            "|   1|\n",
            "|   0|\n",
            "|   1|\n",
            "|   1|\n",
            "|   1|\n",
            "|   1|\n",
            "|   0|\n",
            "|   0|\n",
            "|   1|\n",
            "|   1|\n",
            "|   0|\n",
            "|   0|\n",
            "|   0|\n",
            "|   0|\n",
            "|   0|\n",
            "|   0|\n",
            "|   1|\n",
            "|   0|\n",
            "|   0|\n",
            "+----+\n",
            "only showing top 20 rows\n",
            "\n",
            "+----+----+\n",
            "|hair|legs|\n",
            "+----+----+\n",
            "|   1|   4|\n",
            "|   1|   4|\n",
            "|   0|   0|\n",
            "|   1|   4|\n",
            "|   1|   4|\n",
            "|   1|   4|\n",
            "|   1|   4|\n",
            "|   0|   0|\n",
            "|   0|   0|\n",
            "|   1|   4|\n",
            "|   1|   4|\n",
            "|   0|   2|\n",
            "|   0|   0|\n",
            "|   0|   0|\n",
            "|   0|   4|\n",
            "|   0|   6|\n",
            "|   0|   2|\n",
            "|   1|   4|\n",
            "|   0|   0|\n",
            "|   0|   0|\n",
            "+----+----+\n",
            "only showing top 20 rows\n",
            "\n"
          ]
        }
      ]
    },
    {
      "cell_type": "code",
      "source": [
        "df = df.withColumnRenamed(\"legs\", \"no_of_legs\")\n",
        "df.show()"
      ],
      "metadata": {
        "colab": {
          "base_uri": "https://localhost:8080/"
        },
        "id": "KCQNOm8T8L2r",
        "outputId": "f916c906-2ac6-4aa6-fce2-1fa15c5c661b"
      },
      "execution_count": 31,
      "outputs": [
        {
          "output_type": "stream",
          "name": "stdout",
          "text": [
            "+-----------+----+--------+----+----+--------+-------+--------+-------+--------+--------+--------+----+----------+----+--------+-------+----+\n",
            "|animal name|hair|feathers|eggs|milk|airborne|aquatic|predator|toothed|backbone|breathes|venomous|fins|no_of_legs|tail|domestic|catsize|type|\n",
            "+-----------+----+--------+----+----+--------+-------+--------+-------+--------+--------+--------+----+----------+----+--------+-------+----+\n",
            "|   aardvark|   1|       0|   0|   1|       0|      0|       1|      1|       1|       1|       0|   0|         4|   0|       0|      1|   1|\n",
            "|   antelope|   1|       0|   0|   1|       0|      0|       0|      1|       1|       1|       0|   0|         4|   1|       0|      1|   1|\n",
            "|       bass|   0|       0|   1|   0|       0|      1|       1|      1|       1|       0|       0|   1|         0|   1|       0|      0|   4|\n",
            "|       bear|   1|       0|   0|   1|       0|      0|       1|      1|       1|       1|       0|   0|         4|   0|       0|      1|   1|\n",
            "|       boar|   1|       0|   0|   1|       0|      0|       1|      1|       1|       1|       0|   0|         4|   1|       0|      1|   1|\n",
            "|    buffalo|   1|       0|   0|   1|       0|      0|       0|      1|       1|       1|       0|   0|         4|   1|       0|      1|   1|\n",
            "|       calf|   1|       0|   0|   1|       0|      0|       0|      1|       1|       1|       0|   0|         4|   1|       1|      1|   1|\n",
            "|       carp|   0|       0|   1|   0|       0|      1|       0|      1|       1|       0|       0|   1|         0|   1|       1|      0|   4|\n",
            "|    catfish|   0|       0|   1|   0|       0|      1|       1|      1|       1|       0|       0|   1|         0|   1|       0|      0|   4|\n",
            "|       cavy|   1|       0|   0|   1|       0|      0|       0|      1|       1|       1|       0|   0|         4|   0|       1|      0|   1|\n",
            "|    cheetah|   1|       0|   0|   1|       0|      0|       1|      1|       1|       1|       0|   0|         4|   1|       0|      1|   1|\n",
            "|    chicken|   0|       1|   1|   0|       1|      0|       0|      0|       1|       1|       0|   0|         2|   1|       1|      0|   2|\n",
            "|       chub|   0|       0|   1|   0|       0|      1|       1|      1|       1|       0|       0|   1|         0|   1|       0|      0|   4|\n",
            "|       clam|   0|       0|   1|   0|       0|      0|       1|      0|       0|       0|       0|   0|         0|   0|       0|      0|   7|\n",
            "|       crab|   0|       0|   1|   0|       0|      1|       1|      0|       0|       0|       0|   0|         4|   0|       0|      0|   7|\n",
            "|   crayfish|   0|       0|   1|   0|       0|      1|       1|      0|       0|       0|       0|   0|         6|   0|       0|      0|   7|\n",
            "|       crow|   0|       1|   1|   0|       1|      0|       1|      0|       1|       1|       0|   0|         2|   1|       0|      0|   2|\n",
            "|       deer|   1|       0|   0|   1|       0|      0|       0|      1|       1|       1|       0|   0|         4|   1|       0|      1|   1|\n",
            "|    dogfish|   0|       0|   1|   0|       0|      1|       1|      1|       1|       0|       0|   1|         0|   1|       0|      1|   4|\n",
            "|    dolphin|   0|       0|   0|   1|       0|      1|       1|      1|       1|       1|       0|   1|         0|   1|       0|      1|   1|\n",
            "+-----------+----+--------+----+----+--------+-------+--------+-------+--------+--------+--------+----+----------+----+--------+-------+----+\n",
            "only showing top 20 rows\n",
            "\n"
          ]
        }
      ]
    },
    {
      "cell_type": "code",
      "source": [
        "df = df.withColumn(\"new_hair\", df.hair + 2)\n",
        "df.show()"
      ],
      "metadata": {
        "colab": {
          "base_uri": "https://localhost:8080/"
        },
        "id": "RARTiKVv-K28",
        "outputId": "87bddd67-8370-41b5-f19e-bf50c7c533cb"
      },
      "execution_count": 32,
      "outputs": [
        {
          "output_type": "stream",
          "name": "stdout",
          "text": [
            "+-----------+----+--------+----+----+--------+-------+--------+-------+--------+--------+--------+----+----------+----+--------+-------+----+--------+\n",
            "|animal name|hair|feathers|eggs|milk|airborne|aquatic|predator|toothed|backbone|breathes|venomous|fins|no_of_legs|tail|domestic|catsize|type|new_hair|\n",
            "+-----------+----+--------+----+----+--------+-------+--------+-------+--------+--------+--------+----+----------+----+--------+-------+----+--------+\n",
            "|   aardvark|   1|       0|   0|   1|       0|      0|       1|      1|       1|       1|       0|   0|         4|   0|       0|      1|   1|       3|\n",
            "|   antelope|   1|       0|   0|   1|       0|      0|       0|      1|       1|       1|       0|   0|         4|   1|       0|      1|   1|       3|\n",
            "|       bass|   0|       0|   1|   0|       0|      1|       1|      1|       1|       0|       0|   1|         0|   1|       0|      0|   4|       2|\n",
            "|       bear|   1|       0|   0|   1|       0|      0|       1|      1|       1|       1|       0|   0|         4|   0|       0|      1|   1|       3|\n",
            "|       boar|   1|       0|   0|   1|       0|      0|       1|      1|       1|       1|       0|   0|         4|   1|       0|      1|   1|       3|\n",
            "|    buffalo|   1|       0|   0|   1|       0|      0|       0|      1|       1|       1|       0|   0|         4|   1|       0|      1|   1|       3|\n",
            "|       calf|   1|       0|   0|   1|       0|      0|       0|      1|       1|       1|       0|   0|         4|   1|       1|      1|   1|       3|\n",
            "|       carp|   0|       0|   1|   0|       0|      1|       0|      1|       1|       0|       0|   1|         0|   1|       1|      0|   4|       2|\n",
            "|    catfish|   0|       0|   1|   0|       0|      1|       1|      1|       1|       0|       0|   1|         0|   1|       0|      0|   4|       2|\n",
            "|       cavy|   1|       0|   0|   1|       0|      0|       0|      1|       1|       1|       0|   0|         4|   0|       1|      0|   1|       3|\n",
            "|    cheetah|   1|       0|   0|   1|       0|      0|       1|      1|       1|       1|       0|   0|         4|   1|       0|      1|   1|       3|\n",
            "|    chicken|   0|       1|   1|   0|       1|      0|       0|      0|       1|       1|       0|   0|         2|   1|       1|      0|   2|       2|\n",
            "|       chub|   0|       0|   1|   0|       0|      1|       1|      1|       1|       0|       0|   1|         0|   1|       0|      0|   4|       2|\n",
            "|       clam|   0|       0|   1|   0|       0|      0|       1|      0|       0|       0|       0|   0|         0|   0|       0|      0|   7|       2|\n",
            "|       crab|   0|       0|   1|   0|       0|      1|       1|      0|       0|       0|       0|   0|         4|   0|       0|      0|   7|       2|\n",
            "|   crayfish|   0|       0|   1|   0|       0|      1|       1|      0|       0|       0|       0|   0|         6|   0|       0|      0|   7|       2|\n",
            "|       crow|   0|       1|   1|   0|       1|      0|       1|      0|       1|       1|       0|   0|         2|   1|       0|      0|   2|       2|\n",
            "|       deer|   1|       0|   0|   1|       0|      0|       0|      1|       1|       1|       0|   0|         4|   1|       0|      1|   1|       3|\n",
            "|    dogfish|   0|       0|   1|   0|       0|      1|       1|      1|       1|       0|       0|   1|         0|   1|       0|      1|   4|       2|\n",
            "|    dolphin|   0|       0|   0|   1|       0|      1|       1|      1|       1|       1|       0|   1|         0|   1|       0|      1|   1|       2|\n",
            "+-----------+----+--------+----+----+--------+-------+--------+-------+--------+--------+--------+----+----------+----+--------+-------+----+--------+\n",
            "only showing top 20 rows\n",
            "\n"
          ]
        }
      ]
    },
    {
      "cell_type": "code",
      "source": [
        "df = df.drop(\"new_hair\")\n",
        "df.show()"
      ],
      "metadata": {
        "colab": {
          "base_uri": "https://localhost:8080/"
        },
        "id": "op_G5U-5-UrS",
        "outputId": "bd6a146e-e367-4ae9-904c-5ff3b17f112e"
      },
      "execution_count": 33,
      "outputs": [
        {
          "output_type": "stream",
          "name": "stdout",
          "text": [
            "+-----------+----+--------+----+----+--------+-------+--------+-------+--------+--------+--------+----+----------+----+--------+-------+----+\n",
            "|animal name|hair|feathers|eggs|milk|airborne|aquatic|predator|toothed|backbone|breathes|venomous|fins|no_of_legs|tail|domestic|catsize|type|\n",
            "+-----------+----+--------+----+----+--------+-------+--------+-------+--------+--------+--------+----+----------+----+--------+-------+----+\n",
            "|   aardvark|   1|       0|   0|   1|       0|      0|       1|      1|       1|       1|       0|   0|         4|   0|       0|      1|   1|\n",
            "|   antelope|   1|       0|   0|   1|       0|      0|       0|      1|       1|       1|       0|   0|         4|   1|       0|      1|   1|\n",
            "|       bass|   0|       0|   1|   0|       0|      1|       1|      1|       1|       0|       0|   1|         0|   1|       0|      0|   4|\n",
            "|       bear|   1|       0|   0|   1|       0|      0|       1|      1|       1|       1|       0|   0|         4|   0|       0|      1|   1|\n",
            "|       boar|   1|       0|   0|   1|       0|      0|       1|      1|       1|       1|       0|   0|         4|   1|       0|      1|   1|\n",
            "|    buffalo|   1|       0|   0|   1|       0|      0|       0|      1|       1|       1|       0|   0|         4|   1|       0|      1|   1|\n",
            "|       calf|   1|       0|   0|   1|       0|      0|       0|      1|       1|       1|       0|   0|         4|   1|       1|      1|   1|\n",
            "|       carp|   0|       0|   1|   0|       0|      1|       0|      1|       1|       0|       0|   1|         0|   1|       1|      0|   4|\n",
            "|    catfish|   0|       0|   1|   0|       0|      1|       1|      1|       1|       0|       0|   1|         0|   1|       0|      0|   4|\n",
            "|       cavy|   1|       0|   0|   1|       0|      0|       0|      1|       1|       1|       0|   0|         4|   0|       1|      0|   1|\n",
            "|    cheetah|   1|       0|   0|   1|       0|      0|       1|      1|       1|       1|       0|   0|         4|   1|       0|      1|   1|\n",
            "|    chicken|   0|       1|   1|   0|       1|      0|       0|      0|       1|       1|       0|   0|         2|   1|       1|      0|   2|\n",
            "|       chub|   0|       0|   1|   0|       0|      1|       1|      1|       1|       0|       0|   1|         0|   1|       0|      0|   4|\n",
            "|       clam|   0|       0|   1|   0|       0|      0|       1|      0|       0|       0|       0|   0|         0|   0|       0|      0|   7|\n",
            "|       crab|   0|       0|   1|   0|       0|      1|       1|      0|       0|       0|       0|   0|         4|   0|       0|      0|   7|\n",
            "|   crayfish|   0|       0|   1|   0|       0|      1|       1|      0|       0|       0|       0|   0|         6|   0|       0|      0|   7|\n",
            "|       crow|   0|       1|   1|   0|       1|      0|       1|      0|       1|       1|       0|   0|         2|   1|       0|      0|   2|\n",
            "|       deer|   1|       0|   0|   1|       0|      0|       0|      1|       1|       1|       0|   0|         4|   1|       0|      1|   1|\n",
            "|    dogfish|   0|       0|   1|   0|       0|      1|       1|      1|       1|       0|       0|   1|         0|   1|       0|      1|   4|\n",
            "|    dolphin|   0|       0|   0|   1|       0|      1|       1|      1|       1|       1|       0|   1|         0|   1|       0|      1|   1|\n",
            "+-----------+----+--------+----+----+--------+-------+--------+-------+--------+--------+--------+----+----------+----+--------+-------+----+\n",
            "only showing top 20 rows\n",
            "\n"
          ]
        }
      ]
    },
    {
      "cell_type": "code",
      "source": [
        "df2 = spark.read.csv(\"/content/drive/MyDrive/dataset/netflix_titles.csv\", header=True,inferSchema=True)\n",
        "df2.show()"
      ],
      "metadata": {
        "colab": {
          "base_uri": "https://localhost:8080/"
        },
        "id": "xQYa2ZuA-laF",
        "outputId": "a6754c7c-d3b4-4195-9f1d-68791170744d"
      },
      "execution_count": 68,
      "outputs": [
        {
          "output_type": "stream",
          "name": "stdout",
          "text": [
            "+-------+-------+--------------------+--------------------+--------------------+--------------------+------------------+------------+------+---------+--------------------+--------------------+\n",
            "|show_id|   type|               title|            director|                cast|             country|        date_added|release_year|rating| duration|           listed_in|         description|\n",
            "+-------+-------+--------------------+--------------------+--------------------+--------------------+------------------+------------+------+---------+--------------------+--------------------+\n",
            "|     s1|  Movie|Dick Johnson Is Dead|     Kirsten Johnson|                NULL|       United States|September 25, 2021|        2020| PG-13|   90 min|       Documentaries|As her father nea...|\n",
            "|     s2|TV Show|       Blood & Water|                NULL|Ama Qamata, Khosi...|        South Africa|September 24, 2021|        2021| TV-MA|2 Seasons|International TV ...|After crossing pa...|\n",
            "|     s3|TV Show|           Ganglands|     Julien Leclercq|Sami Bouajila, Tr...|                NULL|September 24, 2021|        2021| TV-MA| 1 Season|Crime TV Shows, I...|To protect his fa...|\n",
            "|     s4|TV Show|Jailbirds New Orl...|                NULL|                NULL|                NULL|September 24, 2021|        2021| TV-MA| 1 Season|Docuseries, Reali...|Feuds, flirtation...|\n",
            "|     s5|TV Show|        Kota Factory|                NULL|Mayur More, Jiten...|               India|September 24, 2021|        2021| TV-MA|2 Seasons|International TV ...|In a city of coac...|\n",
            "|     s6|TV Show|       Midnight Mass|       Mike Flanagan|Kate Siegel, Zach...|                NULL|September 24, 2021|        2021| TV-MA| 1 Season|TV Dramas, TV Hor...|The arrival of a ...|\n",
            "|     s7|  Movie|My Little Pony: A...|Robert Cullen, Jo...|Vanessa Hudgens, ...|                NULL|September 24, 2021|        2021|    PG|   91 min|Children & Family...|Equestria's divid...|\n",
            "|     s8|  Movie|             Sankofa|        Haile Gerima|Kofi Ghanaba, Oya...|United States, Gh...|September 24, 2021|        1993| TV-MA|  125 min|Dramas, Independe...|On a photo shoot ...|\n",
            "|     s9|TV Show|The Great British...|     Andy Devonshire|Mel Giedroyc, Sue...|      United Kingdom|September 24, 2021|        2021| TV-14|9 Seasons|British TV Shows,...|A talented batch ...|\n",
            "|    s10|  Movie|        The Starling|      Theodore Melfi|Melissa McCarthy,...|       United States|September 24, 2021|        2021| PG-13|  104 min|    Comedies, Dramas|A woman adjusting...|\n",
            "|    s11|TV Show|Vendetta: Truth, ...|                NULL|                NULL|                NULL|September 24, 2021|        2021| TV-MA| 1 Season|Crime TV Shows, D...|\"Sicily boasts a ...|\n",
            "|    s12|TV Show|    Bangkok Breaking|   Kongkiat Komesiri|Sukollawat Kanaro...|                NULL|September 23, 2021|        2021| TV-MA| 1 Season|Crime TV Shows, I...|Struggling to ear...|\n",
            "|    s13|  Movie|        Je Suis Karl| Christian Schwochow|Luna Wedler, Jann...|Germany, Czech Re...|September 23, 2021|        2021| TV-MA|  127 min|Dramas, Internati...|After most of her...|\n",
            "|    s14|  Movie|Confessions of an...|       Bruno Garotti|Klara Castanho, L...|                NULL|September 22, 2021|        2021| TV-PG|   91 min|Children & Family...|When the clever b...|\n",
            "|    s15|TV Show|Crime Stories: In...|                NULL|                NULL|                NULL|September 22, 2021|        2021| TV-MA| 1 Season|British TV Shows,...|Cameras following...|\n",
            "|    s16|TV Show|   Dear White People|                NULL|Logan Browning, B...|       United States|September 22, 2021|        2021| TV-MA|4 Seasons|TV Comedies, TV D...|\"Students of colo...|\n",
            "|    s17|  Movie|Europe's Most Dan...|Pedro de Echave G...|                NULL|                NULL|September 22, 2021|        2020| TV-MA|   67 min|Documentaries, In...|Declassified docu...|\n",
            "|    s18|TV Show|     Falsa identidad|                NULL|Luis Ernesto Fran...|              Mexico|September 22, 2021|        2020| TV-MA|2 Seasons|Crime TV Shows, S...|Strangers Diego a...|\n",
            "|    s19|  Movie|           Intrusion|          Adam Salky|Freida Pinto, Log...|                NULL|September 22, 2021|        2021| TV-14|   94 min|           Thrillers|After a deadly ho...|\n",
            "|    s20|TV Show|              Jaguar|                NULL|Blanca Suárez, Iv...|                NULL|September 22, 2021|        2021| TV-MA| 1 Season|International TV ...|In the 1960s, a H...|\n",
            "+-------+-------+--------------------+--------------------+--------------------+--------------------+------------------+------------+------+---------+--------------------+--------------------+\n",
            "only showing top 20 rows\n",
            "\n"
          ]
        }
      ]
    },
    {
      "cell_type": "code",
      "source": [
        "# dropping multiple columns\n",
        "df2 = df2.drop(*['cast', 'listed_in','description'])\n",
        "df2.show()"
      ],
      "metadata": {
        "colab": {
          "base_uri": "https://localhost:8080/"
        },
        "id": "_3-rPgSdAu0c",
        "outputId": "ae60c55f-8cf5-49a8-e106-1df4a2960a28"
      },
      "execution_count": 69,
      "outputs": [
        {
          "output_type": "stream",
          "name": "stdout",
          "text": [
            "+-------+-------+--------------------+--------------------+--------------------+------------------+------------+------+---------+\n",
            "|show_id|   type|               title|            director|             country|        date_added|release_year|rating| duration|\n",
            "+-------+-------+--------------------+--------------------+--------------------+------------------+------------+------+---------+\n",
            "|     s1|  Movie|Dick Johnson Is Dead|     Kirsten Johnson|       United States|September 25, 2021|        2020| PG-13|   90 min|\n",
            "|     s2|TV Show|       Blood & Water|                NULL|        South Africa|September 24, 2021|        2021| TV-MA|2 Seasons|\n",
            "|     s3|TV Show|           Ganglands|     Julien Leclercq|                NULL|September 24, 2021|        2021| TV-MA| 1 Season|\n",
            "|     s4|TV Show|Jailbirds New Orl...|                NULL|                NULL|September 24, 2021|        2021| TV-MA| 1 Season|\n",
            "|     s5|TV Show|        Kota Factory|                NULL|               India|September 24, 2021|        2021| TV-MA|2 Seasons|\n",
            "|     s6|TV Show|       Midnight Mass|       Mike Flanagan|                NULL|September 24, 2021|        2021| TV-MA| 1 Season|\n",
            "|     s7|  Movie|My Little Pony: A...|Robert Cullen, Jo...|                NULL|September 24, 2021|        2021|    PG|   91 min|\n",
            "|     s8|  Movie|             Sankofa|        Haile Gerima|United States, Gh...|September 24, 2021|        1993| TV-MA|  125 min|\n",
            "|     s9|TV Show|The Great British...|     Andy Devonshire|      United Kingdom|September 24, 2021|        2021| TV-14|9 Seasons|\n",
            "|    s10|  Movie|        The Starling|      Theodore Melfi|       United States|September 24, 2021|        2021| PG-13|  104 min|\n",
            "|    s11|TV Show|Vendetta: Truth, ...|                NULL|                NULL|September 24, 2021|        2021| TV-MA| 1 Season|\n",
            "|    s12|TV Show|    Bangkok Breaking|   Kongkiat Komesiri|                NULL|September 23, 2021|        2021| TV-MA| 1 Season|\n",
            "|    s13|  Movie|        Je Suis Karl| Christian Schwochow|Germany, Czech Re...|September 23, 2021|        2021| TV-MA|  127 min|\n",
            "|    s14|  Movie|Confessions of an...|       Bruno Garotti|                NULL|September 22, 2021|        2021| TV-PG|   91 min|\n",
            "|    s15|TV Show|Crime Stories: In...|                NULL|                NULL|September 22, 2021|        2021| TV-MA| 1 Season|\n",
            "|    s16|TV Show|   Dear White People|                NULL|       United States|September 22, 2021|        2021| TV-MA|4 Seasons|\n",
            "|    s17|  Movie|Europe's Most Dan...|Pedro de Echave G...|                NULL|September 22, 2021|        2020| TV-MA|   67 min|\n",
            "|    s18|TV Show|     Falsa identidad|                NULL|              Mexico|September 22, 2021|        2020| TV-MA|2 Seasons|\n",
            "|    s19|  Movie|           Intrusion|          Adam Salky|                NULL|September 22, 2021|        2021| TV-14|   94 min|\n",
            "|    s20|TV Show|              Jaguar|                NULL|                NULL|September 22, 2021|        2021| TV-MA| 1 Season|\n",
            "+-------+-------+--------------------+--------------------+--------------------+------------------+------------+------+---------+\n",
            "only showing top 20 rows\n",
            "\n"
          ]
        }
      ]
    },
    {
      "cell_type": "code",
      "source": [
        "df2 = df2.dropna()\n",
        "df2 = df2.na.drop(how =\"all\") # if a row contain all null values then only drops\n",
        "df2 = df2.na.drop(how =\"any\") # if a row contains any single null then drops\n",
        "\n",
        "df2.na.drop(thresh = 2) # keeps the row only if it has 2 non null values\n",
        "df2.na.drop(subset = ['director']) # keeps the row only if director is not null\n",
        "df2.show()"
      ],
      "metadata": {
        "colab": {
          "base_uri": "https://localhost:8080/"
        },
        "id": "j8aCbaAZC3Id",
        "outputId": "793513ce-1070-48b4-a34c-5164f0b8ef66"
      },
      "execution_count": 39,
      "outputs": [
        {
          "output_type": "stream",
          "name": "stdout",
          "text": [
            "+-------+-------+--------------------+-------------------+--------------------+------------------+------------+------+---------+--------------------+\n",
            "|show_id|   type|               title|           director|             country|        date_added|release_year|rating| duration|         description|\n",
            "+-------+-------+--------------------+-------------------+--------------------+------------------+------------+------+---------+--------------------+\n",
            "|     s1|  Movie|Dick Johnson Is Dead|    Kirsten Johnson|       United States|September 25, 2021|        2020| PG-13|   90 min|As her father nea...|\n",
            "|     s8|  Movie|             Sankofa|       Haile Gerima|United States, Gh...|September 24, 2021|        1993| TV-MA|  125 min|On a photo shoot ...|\n",
            "|     s9|TV Show|The Great British...|    Andy Devonshire|      United Kingdom|September 24, 2021|        2021| TV-14|9 Seasons|A talented batch ...|\n",
            "|    s10|  Movie|        The Starling|     Theodore Melfi|       United States|September 24, 2021|        2021| PG-13|  104 min|A woman adjusting...|\n",
            "|    s13|  Movie|        Je Suis Karl|Christian Schwochow|Germany, Czech Re...|September 23, 2021|        2021| TV-MA|  127 min|After most of her...|\n",
            "|    s25|  Movie|               Jeans|         S. Shankar|               India|September 21, 2021|        1998| TV-14|  166 min|When the father o...|\n",
            "|    s28|  Movie|           Grown Ups|       Dennis Dugan|       United States|September 20, 2021|        2010| PG-13|  103 min|Mourning the loss...|\n",
            "|    s29|  Movie|          Dark Skies|      Scott Stewart|       United States|September 19, 2021|        2013| PG-13|   97 min|A family’s idylli...|\n",
            "|    s30|  Movie|            Paranoia|     Robert Luketic|United States, In...|September 19, 2021|        2013| PG-13|  106 min|Blackmailed by hi...|\n",
            "|    s39|  Movie| Birth of the Dragon|       George Nolfi|China, Canada, Un...|September 16, 2021|        2017| PG-13|   96 min|A young Bruce Lee...|\n",
            "|    s42|  Movie|                Jaws|   Steven Spielberg|       United States|September 16, 2021|        1975|    PG|  124 min|When an insatiabl...|\n",
            "|    s43|  Movie|              Jaws 2|     Jeannot Szwarc|       United States|September 16, 2021|        1978|    PG|  116 min|Four years after ...|\n",
            "|    s44|  Movie|              Jaws 3|          Joe Alves|       United States|September 16, 2021|        1983|    PG|   98 min|After the staff o...|\n",
            "|    s45|  Movie|   Jaws: The Revenge|     Joseph Sargent|       United States|September 16, 2021|        1987| PG-13|   91 min|After another dea...|\n",
            "|    s47|  Movie|          Safe House|    Daniel Espinosa|South Africa, Uni...|September 16, 2021|        2012|     R|  115 min|Young CIA operati...|\n",
            "|    s49|  Movie|        Training Day|      Antoine Fuqua|       United States|September 16, 2021|        2001|     R|  122 min|A rookie cop with...|\n",
            "|    s52|  Movie|InuYasha the Movi...|  Toshiya Shinohara|               Japan|September 15, 2021|        2002| TV-14|   99 min|With their bigges...|\n",
            "|    s53|  Movie|InuYasha the Movi...|  Toshiya Shinohara|               Japan|September 15, 2021|        2003| TV-14|   99 min|The Great Dog Dem...|\n",
            "|    s54|  Movie|InuYasha the Movi...|  Toshiya Shinohara|               Japan|September 15, 2021|        2004| TV-PG|   88 min|Ai, a young half-...|\n",
            "|    s55|  Movie|InuYasha the Movi...|  Toshiya Shinohara|               Japan|September 15, 2021|        2001| TV-PG|  100 min|A powerful demon ...|\n",
            "+-------+-------+--------------------+-------------------+--------------------+------------------+------------+------+---------+--------------------+\n",
            "only showing top 20 rows\n",
            "\n"
          ]
        }
      ]
    },
    {
      "cell_type": "code",
      "source": [
        "df2.na.drop(subset = ['director']).show() # keeps the row only if director is not null\n",
        "df2=df2.dropDuplicates()\n",
        "df2.show()"
      ],
      "metadata": {
        "colab": {
          "base_uri": "https://localhost:8080/"
        },
        "id": "fLq6g9bIDIYV",
        "outputId": "d97ae1e9-b8db-4b42-fa9f-06b8159b0824"
      },
      "execution_count": 45,
      "outputs": [
        {
          "output_type": "stream",
          "name": "stdout",
          "text": [
            "+-------+-------+--------------------+--------------------+--------------------+------------------+------------+------+---------+\n",
            "|show_id|   type|               title|            director|             country|        date_added|release_year|rating| duration|\n",
            "+-------+-------+--------------------+--------------------+--------------------+------------------+------------+------+---------+\n",
            "|     s1|  Movie|Dick Johnson Is Dead|     Kirsten Johnson|       United States|September 25, 2021|        2020| PG-13|   90 min|\n",
            "|     s3|TV Show|           Ganglands|     Julien Leclercq|                NULL|September 24, 2021|        2021| TV-MA| 1 Season|\n",
            "|     s6|TV Show|       Midnight Mass|       Mike Flanagan|                NULL|September 24, 2021|        2021| TV-MA| 1 Season|\n",
            "|     s7|  Movie|My Little Pony: A...|Robert Cullen, Jo...|                NULL|September 24, 2021|        2021|    PG|   91 min|\n",
            "|     s8|  Movie|             Sankofa|        Haile Gerima|United States, Gh...|September 24, 2021|        1993| TV-MA|  125 min|\n",
            "|     s9|TV Show|The Great British...|     Andy Devonshire|      United Kingdom|September 24, 2021|        2021| TV-14|9 Seasons|\n",
            "|    s10|  Movie|        The Starling|      Theodore Melfi|       United States|September 24, 2021|        2021| PG-13|  104 min|\n",
            "|    s12|TV Show|    Bangkok Breaking|   Kongkiat Komesiri|                NULL|September 23, 2021|        2021| TV-MA| 1 Season|\n",
            "|    s13|  Movie|        Je Suis Karl| Christian Schwochow|Germany, Czech Re...|September 23, 2021|        2021| TV-MA|  127 min|\n",
            "|    s14|  Movie|Confessions of an...|       Bruno Garotti|                NULL|September 22, 2021|        2021| TV-PG|   91 min|\n",
            "|    s17|  Movie|Europe's Most Dan...|Pedro de Echave G...|                NULL|September 22, 2021|        2020| TV-MA|   67 min|\n",
            "|    s19|  Movie|           Intrusion|          Adam Salky|                NULL|September 22, 2021|        2021| TV-14|   94 min|\n",
            "|    s21|TV Show|Monsters Inside: ...|     Olivier Megaton|                NULL|September 22, 2021|        2021| TV-14| 1 Season|\n",
            "|    s23|  Movie|     Avvai Shanmughi|      K.S. Ravikumar|                NULL|September 21, 2021|        1996| TV-PG|  161 min|\n",
            "|    s24|  Movie|Go! Go! Cory Cars...|Alex Woo, Stanley...|                NULL|September 21, 2021|        2021|  TV-Y|   61 min|\n",
            "|    s25|  Movie|               Jeans|          S. Shankar|               India|September 21, 2021|        1998| TV-14|  166 min|\n",
            "|    s27|  Movie|      Minsara Kanavu|         Rajiv Menon|                NULL|September 21, 2021|        1997| TV-PG|  147 min|\n",
            "|    s28|  Movie|           Grown Ups|        Dennis Dugan|       United States|September 20, 2021|        2010| PG-13|  103 min|\n",
            "|    s29|  Movie|          Dark Skies|       Scott Stewart|       United States|September 19, 2021|        2013| PG-13|   97 min|\n",
            "|    s30|  Movie|            Paranoia|      Robert Luketic|United States, In...|September 19, 2021|        2013| PG-13|  106 min|\n",
            "+-------+-------+--------------------+--------------------+--------------------+------------------+------------+------+---------+\n",
            "only showing top 20 rows\n",
            "\n",
            "+-------+-------+--------------------+--------------------+--------------------+--------------------+--------------+--------------------+-------------+\n",
            "|show_id|   type|               title|            director|             country|          date_added|  release_year|              rating|     duration|\n",
            "+-------+-------+--------------------+--------------------+--------------------+--------------------+--------------+--------------------+-------------+\n",
            "|   s106|  Movie|    Angamaly Diaries|Lijo Jose Pellissery|               India|   September 5, 2021|          2017|               TV-14|      128 min|\n",
            "|   s199|TV Show|King of Boys: The...|        Kemi Adetiba| Remilekun \"\"Remi...| Charles  \"\"Charl...| Nse Ikpe-Etim| Keppy Ekpenyong ...| Bimbo Manuel|\n",
            "|   s458|  Movie|    Lift Like a Girl|         Mayye Zayed|Egypt, Denmark, G...|       July 15, 2021|          2021|               TV-PG|       93 min|\n",
            "|   s767|  Movie|Alan Saldaña: Loc...|           Alex Díaz|              Mexico|        June 3, 2021|          2021|               TV-MA|       49 min|\n",
            "|  s1042|  Movie|             GANTZ:O|Keiichi Sato, Yas...|               Japan|      April 15, 2021|          2016|               TV-MA|       96 min|\n",
            "|  s1120|  Movie|Into the Grizzly ...|         David Hackl|United States, Ca...|       April 1, 2021|          2015|                   R|       90 min|\n",
            "|  s2846|  Movie|The Death of Mr. ...|         Cristi Puiu|             Romania|       March 4, 2020|          2005|                   R|      154 min|\n",
            "|  s2851|  Movie|The Last Bomb of ...|     Athiyan Athirai|               India|       March 3, 2020|          2019|               TV-14|      133 min|\n",
            "|  s2905|  Movie|       Miss Virginia|   R.J. Daniel Hanna|       United States|   February 16, 2020|          2019|               TV-MA|      102 min|\n",
            "|  s3483|  Movie|            Deliha 2|          Gupse Özay|              Turkey|  September 27, 2019|          2018|               TV-PG|      102 min|\n",
            "|  s3963|  Movie|           15 August|  Swapnaneel Jayakar|               India|      March 29, 2019|          2019|               TV-14|      124 min|\n",
            "|  s4075|  Movie|It Takes a Man an...| Cathy Garcia-Molina|         Philippines|   February 27, 2019|          2013|               TV-PG|      127 min|\n",
            "|  s4125|  Movie|   The Tree of Blood|         Julio Medem|               Spain|    February 8, 2019|          2018|               TV-MA|      136 min|\n",
            "|  s4584|  Movie|Main, Meri Patni ...|       Chandan Arora|               India|     October 1, 2018|          2005|               TV-PG|      129 min|\n",
            "|  s4586|  Movie|    Motor Mitraan Di|         Amitoj Mann|               India|     October 1, 2018|          2016|               TV-PG|      117 min|\n",
            "|  s5424|  Movie|Puss in Book: Tra...|Roy Burdine, John...|       United States|       June 20, 2017|          2017|               TV-Y7|       24 min|\n",
            "|  s5929|  Movie|Chelsea Handler: ...|        James Yukich|       United States|    October 10, 2014|          2014|               TV-MA|       71 min|\n",
            "|  s6112|  Movie|Alice Doesn't Liv...|     Martin Scorsese|       United States|        July 1, 2019|          1974|                  PG|      112 min|\n",
            "|  s6115|  Movie|   Alive and Kicking|       Susan Glatzer|Sweden, United St...|     August 10, 2017|          2016|               TV-14|       89 min|\n",
            "|  s6526|  Movie|   Concrete Football|Jesse Adang, Syri...|Czech Republic, F...|   September 1, 2017|          2016|               TV-MA|       52 min|\n",
            "+-------+-------+--------------------+--------------------+--------------------+--------------------+--------------+--------------------+-------------+\n",
            "only showing top 20 rows\n",
            "\n"
          ]
        }
      ]
    },
    {
      "cell_type": "code",
      "source": [
        "df2 = df2.na.fill(\"Missing\", 'director') #filling single column\n",
        "df2 = df2.na.fill(\"Missing\", ['country','director']) # filling multiple column"
      ],
      "metadata": {
        "id": "KomCvSupFakn"
      },
      "execution_count": 70,
      "outputs": []
    },
    {
      "cell_type": "code",
      "source": [
        "df2 = df2.withColumn('dummy_col',  lit(10))"
      ],
      "metadata": {
        "id": "I34H6UayGCks"
      },
      "execution_count": 71,
      "outputs": []
    },
    {
      "cell_type": "code",
      "source": [
        "imputer = Imputer(inputCols=[\"dummy_col\"], outputCols=[\"imputed_dummy_col\"]).setStrategy(\"median\")\n",
        "model = imputer.fit(df2)\n",
        "df2 = model.transform(df2)\n",
        "df2.show()"
      ],
      "metadata": {
        "colab": {
          "base_uri": "https://localhost:8080/"
        },
        "id": "K3FdMrAUJ1QY",
        "outputId": "ad9ca29e-5a5b-4479-c69a-ae6250ae4235"
      },
      "execution_count": 73,
      "outputs": [
        {
          "output_type": "stream",
          "name": "stdout",
          "text": [
            "+-------+-------+--------------------+--------------------+--------------------+------------------+------------+------+---------+---------+-----------------+\n",
            "|show_id|   type|               title|            director|             country|        date_added|release_year|rating| duration|dummy_col|imputed_dummy_col|\n",
            "+-------+-------+--------------------+--------------------+--------------------+------------------+------------+------+---------+---------+-----------------+\n",
            "|     s1|  Movie|Dick Johnson Is Dead|     Kirsten Johnson|       United States|September 25, 2021|        2020| PG-13|   90 min|       10|               10|\n",
            "|     s2|TV Show|       Blood & Water|             Missing|        South Africa|September 24, 2021|        2021| TV-MA|2 Seasons|       10|               10|\n",
            "|     s3|TV Show|           Ganglands|     Julien Leclercq|             Missing|September 24, 2021|        2021| TV-MA| 1 Season|       10|               10|\n",
            "|     s4|TV Show|Jailbirds New Orl...|             Missing|             Missing|September 24, 2021|        2021| TV-MA| 1 Season|       10|               10|\n",
            "|     s5|TV Show|        Kota Factory|             Missing|               India|September 24, 2021|        2021| TV-MA|2 Seasons|       10|               10|\n",
            "|     s6|TV Show|       Midnight Mass|       Mike Flanagan|             Missing|September 24, 2021|        2021| TV-MA| 1 Season|       10|               10|\n",
            "|     s7|  Movie|My Little Pony: A...|Robert Cullen, Jo...|             Missing|September 24, 2021|        2021|    PG|   91 min|       10|               10|\n",
            "|     s8|  Movie|             Sankofa|        Haile Gerima|United States, Gh...|September 24, 2021|        1993| TV-MA|  125 min|       10|               10|\n",
            "|     s9|TV Show|The Great British...|     Andy Devonshire|      United Kingdom|September 24, 2021|        2021| TV-14|9 Seasons|       10|               10|\n",
            "|    s10|  Movie|        The Starling|      Theodore Melfi|       United States|September 24, 2021|        2021| PG-13|  104 min|       10|               10|\n",
            "|    s11|TV Show|Vendetta: Truth, ...|             Missing|             Missing|September 24, 2021|        2021| TV-MA| 1 Season|       10|               10|\n",
            "|    s12|TV Show|    Bangkok Breaking|   Kongkiat Komesiri|             Missing|September 23, 2021|        2021| TV-MA| 1 Season|       10|               10|\n",
            "|    s13|  Movie|        Je Suis Karl| Christian Schwochow|Germany, Czech Re...|September 23, 2021|        2021| TV-MA|  127 min|       10|               10|\n",
            "|    s14|  Movie|Confessions of an...|       Bruno Garotti|             Missing|September 22, 2021|        2021| TV-PG|   91 min|       10|               10|\n",
            "|    s15|TV Show|Crime Stories: In...|             Missing|             Missing|September 22, 2021|        2021| TV-MA| 1 Season|       10|               10|\n",
            "|    s16|TV Show|   Dear White People|             Missing|       United States|September 22, 2021|        2021| TV-MA|4 Seasons|       10|               10|\n",
            "|    s17|  Movie|Europe's Most Dan...|Pedro de Echave G...|             Missing|September 22, 2021|        2020| TV-MA|   67 min|       10|               10|\n",
            "|    s18|TV Show|     Falsa identidad|             Missing|              Mexico|September 22, 2021|        2020| TV-MA|2 Seasons|       10|               10|\n",
            "|    s19|  Movie|           Intrusion|          Adam Salky|             Missing|September 22, 2021|        2021| TV-14|   94 min|       10|               10|\n",
            "|    s20|TV Show|              Jaguar|             Missing|             Missing|September 22, 2021|        2021| TV-MA| 1 Season|       10|               10|\n",
            "+-------+-------+--------------------+--------------------+--------------------+------------------+------------+------+---------+---------+-----------------+\n",
            "only showing top 20 rows\n",
            "\n"
          ]
        }
      ]
    },
    {
      "cell_type": "code",
      "source": [
        "#filters\n",
        "df2 = df2.filter(df2.release_year > 2000)\n",
        "df2 = df2.filter(df2.type == \"Movie\").filter(df2.country == \"India\")\n",
        "df2.show()"
      ],
      "metadata": {
        "colab": {
          "base_uri": "https://localhost:8080/"
        },
        "id": "Om6GA2PhOBpY",
        "outputId": "302b4051-14ea-4ca3-9238-4a89fd2b6de9"
      },
      "execution_count": 78,
      "outputs": [
        {
          "output_type": "stream",
          "name": "stdout",
          "text": [
            "+-------+-----+--------------------+--------------------+-------+-----------------+------------+------+--------+---------+-----------------+\n",
            "|show_id| type|               title|            director|country|       date_added|release_year|rating|duration|dummy_col|imputed_dummy_col|\n",
            "+-------+-----+--------------------+--------------------+-------+-----------------+------------+------+--------+---------+-----------------+\n",
            "|   s106|Movie|    Angamaly Diaries|Lijo Jose Pellissery|  India|September 5, 2021|        2017| TV-14| 128 min|       10|               10|\n",
            "|   s117|Movie|              Dhanak|     Nagesh Kukunoor|  India|September 2, 2021|        2015| TV-PG| 114 min|       10|               10|\n",
            "|   s119|Movie|             Gurgaon|       Shanker Raman|  India|September 2, 2021|        2017| TV-14| 106 min|       10|               10|\n",
            "|   s127|Movie|             Shikara|  Vidhu Vinod Chopra|  India|September 2, 2021|        2020| TV-14| 115 min|       10|               10|\n",
            "|   s191|Movie|          Thimmarusu|   Sharan Koppisetty|  India|  August 28, 2021|        2021| TV-14| 125 min|       10|               10|\n",
            "|   s193|Movie|          C Kkompany|        Sachin Yardi|  India|  August 27, 2021|        2008| TV-14| 127 min|       10|               10|\n",
            "|   s196|Movie|EMI: Liya Hai To ...|       Saurabh Kabra|  India|  August 27, 2021|        2008| TV-14| 128 min|       10|               10|\n",
            "|   s200|Movie|          Koi Aap Sa|        Partho Mitra|  India|  August 27, 2021|        2006| TV-14| 135 min|       10|               10|\n",
            "|   s201|Movie|     Krishna Cottage|       Santram Varma|  India|  August 27, 2021|        2004| TV-14| 124 min|       10|               10|\n",
            "|   s202|Movie|        Kucch To Hai|Anil V. Kumar, An...|  India|  August 27, 2021|        2003| TV-14| 136 min|       10|               10|\n",
            "|   s203|Movie|   Kyaa Kool Hai Hum|      Sangeeth Sivan|  India|  August 27, 2021|        2005| TV-MA| 165 min|       10|               10|\n",
            "|   s204|Movie|Kyaa Kool Hain Hum 3|        Umesh Ghadge|  India|  August 27, 2021|        2016| TV-MA| 124 min|       10|               10|\n",
            "|   s205|Movie|Kyaa Super Kool H...|        Sachin Yardi|  India|  August 27, 2021|        2012| TV-MA| 136 min|       10|               10|\n",
            "|   s206|Movie|Kyo Kii... Main J...|        David Dhawan|  India|  August 27, 2021|        2001| TV-14| 150 min|       10|               10|\n",
            "|   s207|Movie|LSD: Love, Sex Au...|    Dibakar Banerjee|  India|  August 27, 2021|        2010| TV-MA| 112 min|       10|               10|\n",
            "|   s208|Movie|Mission Istaanbul...|      Apoorva Lakhia|  India|  August 27, 2021|        2008| TV-14| 119 min|       10|               10|\n",
            "|   s209|Movie|Once Upon a Time ...|       Milan Luthria|  India|  August 27, 2021|        2010| TV-14| 133 min|       10|               10|\n",
            "|   s210|Movie|Once Upon a Time ...|       Milan Luthria|  India|  August 27, 2021|        2013| TV-14| 142 min|       10|               10|\n",
            "|   s211|Movie|          Ragini MMS|     Pawan Kripalani|  India|  August 27, 2021|        2011| TV-MA|  93 min|       10|               10|\n",
            "|   s212|Movie|        Ragini MMS 2|       Bhushan Patel|  India|  August 27, 2021|        2014| TV-MA| 113 min|       10|               10|\n",
            "+-------+-----+--------------------+--------------------+-------+-----------------+------------+------+--------+---------+-----------------+\n",
            "only showing top 20 rows\n",
            "\n"
          ]
        }
      ]
    },
    {
      "cell_type": "code",
      "source": [
        "df2.filter(df2.duration == \"128 min\").show()"
      ],
      "metadata": {
        "colab": {
          "base_uri": "https://localhost:8080/"
        },
        "id": "JaJ_XcJ4abVd",
        "outputId": "ee041397-4cc0-441b-a549-9d0d8013f0f7"
      },
      "execution_count": 82,
      "outputs": [
        {
          "output_type": "stream",
          "name": "stdout",
          "text": [
            "+-------+-----+--------------------+--------------------+-------+------------------+------------+------+--------+---------+-----------------+\n",
            "|show_id| type|               title|            director|country|        date_added|release_year|rating|duration|dummy_col|imputed_dummy_col|\n",
            "+-------+-----+--------------------+--------------------+-------+------------------+------------+------+--------+---------+-----------------+\n",
            "|   s106|Movie|    Angamaly Diaries|Lijo Jose Pellissery|  India| September 5, 2021|        2017| TV-14| 128 min|       10|               10|\n",
            "|   s196|Movie|EMI: Liya Hai To ...|       Saurabh Kabra|  India|   August 27, 2021|        2008| TV-14| 128 min|       10|               10|\n",
            "|   s542|Movie|    Truckbhar Swapna|        Pramod Pawar|  India|      July 6, 2021|        2018| TV-14| 128 min|       10|               10|\n",
            "|   s960|Movie|        The Disciple|   Chaitanya Tamhane|  India|    April 30, 2021|        2021| TV-MA| 128 min|       10|               10|\n",
            "|  s1681|Movie|                TE3N|      Ribhu Dasgupta|  India| November 19, 2020|        2016| TV-14| 128 min|       10|               10|\n",
            "|  s2274|Movie|      Gabbar Is Back|               Krish|  India|      July 5, 2020|        2015| TV-14| 128 min|       10|               10|\n",
            "|  s2278|Movie|         Madras Café|      Shoojit Sircar|  India|      July 5, 2020|        2013| TV-14| 128 min|       10|               10|\n",
            "|  s3033|Movie|       Made in China|       Mikhil Musale|  India|  January 12, 2020|        2019| TV-MA| 128 min|       10|               10|\n",
            "|  s3784|Movie| III Smoking Barrels|          Sanjib Dey|  India|      June 1, 2019|        2017| TV-MA| 128 min|       10|               10|\n",
            "|  s4445|Movie|    Jatts in Golmaal|  Ksshitij Chaudhary|  India|  November 1, 2018|        2013| TV-PG| 128 min|       10|               10|\n",
            "|  s4562|Movie|             Delhi 6|Rakeysh Omprakash...|  India|   October 1, 2018|        2009| TV-14| 128 min|       10|               10|\n",
            "|  s4576|Movie|             Kaminey|     Vishal Bhardwaj|  India|   October 1, 2018|        2009| TV-14| 128 min|       10|               10|\n",
            "|  s4728|Movie|   I Hate Luv Storys|      Punit Malhotra|  India|    August 2, 2018|        2010| TV-14| 128 min|       10|               10|\n",
            "|  s4801|Movie|   Tum Milo Toh Sahi|      Kabir Sadanand|  India|      July 1, 2018|        2010| TV-14| 128 min|       10|               10|\n",
            "|  s5123|Movie|             Muramba|      Varun Narvekar|  India| December 15, 2017|        2017| TV-MA| 128 min|       10|               10|\n",
            "|  s5152|Movie|         Poster Boys|     Shreyas Talpade|  India| November 27, 2017|        2017| PG-13| 128 min|       10|               10|\n",
            "|  s5969|Movie|        ​Goli Soda 2|        Vijay Milton|  India|September 15, 2018|        2018| TV-14| 128 min|       10|               10|\n",
            "|  s6605|Movie|             Dhamaal|         Indra Kumar|  India| December 31, 2019|        2007| TV-14| 128 min|       10|               10|\n",
            "|  s7459|Movie|Minnaminugu the F...|         Anil Thomas|  India|    August 1, 2018|        2017| TV-14| 128 min|       10|               10|\n",
            "+-------+-----+--------------------+--------------------+-------+------------------+------------+------+--------+---------+-----------------+\n",
            "\n"
          ]
        }
      ]
    },
    {
      "cell_type": "code",
      "source": [
        "df2.filter(~(df2.release_year < 2000)).show()\n"
      ],
      "metadata": {
        "colab": {
          "base_uri": "https://localhost:8080/"
        },
        "id": "KdbhF-2HdA_b",
        "outputId": "7accc292-f3c7-4244-c30a-0084b419383e"
      },
      "execution_count": 89,
      "outputs": [
        {
          "output_type": "stream",
          "name": "stdout",
          "text": [
            "+-------+-----+--------------------+--------------------+-------+-----------------+------------+------+--------+---------+-----------------+\n",
            "|show_id| type|               title|            director|country|       date_added|release_year|rating|duration|dummy_col|imputed_dummy_col|\n",
            "+-------+-----+--------------------+--------------------+-------+-----------------+------------+------+--------+---------+-----------------+\n",
            "|   s106|Movie|    Angamaly Diaries|Lijo Jose Pellissery|  India|September 5, 2021|        2017| TV-14| 128 min|       10|               10|\n",
            "|   s117|Movie|              Dhanak|     Nagesh Kukunoor|  India|September 2, 2021|        2015| TV-PG| 114 min|       10|               10|\n",
            "|   s119|Movie|             Gurgaon|       Shanker Raman|  India|September 2, 2021|        2017| TV-14| 106 min|       10|               10|\n",
            "|   s127|Movie|             Shikara|  Vidhu Vinod Chopra|  India|September 2, 2021|        2020| TV-14| 115 min|       10|               10|\n",
            "|   s191|Movie|          Thimmarusu|   Sharan Koppisetty|  India|  August 28, 2021|        2021| TV-14| 125 min|       10|               10|\n",
            "|   s193|Movie|          C Kkompany|        Sachin Yardi|  India|  August 27, 2021|        2008| TV-14| 127 min|       10|               10|\n",
            "|   s196|Movie|EMI: Liya Hai To ...|       Saurabh Kabra|  India|  August 27, 2021|        2008| TV-14| 128 min|       10|               10|\n",
            "|   s200|Movie|          Koi Aap Sa|        Partho Mitra|  India|  August 27, 2021|        2006| TV-14| 135 min|       10|               10|\n",
            "|   s201|Movie|     Krishna Cottage|       Santram Varma|  India|  August 27, 2021|        2004| TV-14| 124 min|       10|               10|\n",
            "|   s202|Movie|        Kucch To Hai|Anil V. Kumar, An...|  India|  August 27, 2021|        2003| TV-14| 136 min|       10|               10|\n",
            "|   s203|Movie|   Kyaa Kool Hai Hum|      Sangeeth Sivan|  India|  August 27, 2021|        2005| TV-MA| 165 min|       10|               10|\n",
            "|   s204|Movie|Kyaa Kool Hain Hum 3|        Umesh Ghadge|  India|  August 27, 2021|        2016| TV-MA| 124 min|       10|               10|\n",
            "|   s205|Movie|Kyaa Super Kool H...|        Sachin Yardi|  India|  August 27, 2021|        2012| TV-MA| 136 min|       10|               10|\n",
            "|   s206|Movie|Kyo Kii... Main J...|        David Dhawan|  India|  August 27, 2021|        2001| TV-14| 150 min|       10|               10|\n",
            "|   s207|Movie|LSD: Love, Sex Au...|    Dibakar Banerjee|  India|  August 27, 2021|        2010| TV-MA| 112 min|       10|               10|\n",
            "|   s208|Movie|Mission Istaanbul...|      Apoorva Lakhia|  India|  August 27, 2021|        2008| TV-14| 119 min|       10|               10|\n",
            "|   s209|Movie|Once Upon a Time ...|       Milan Luthria|  India|  August 27, 2021|        2010| TV-14| 133 min|       10|               10|\n",
            "|   s210|Movie|Once Upon a Time ...|       Milan Luthria|  India|  August 27, 2021|        2013| TV-14| 142 min|       10|               10|\n",
            "|   s211|Movie|          Ragini MMS|     Pawan Kripalani|  India|  August 27, 2021|        2011| TV-MA|  93 min|       10|               10|\n",
            "|   s212|Movie|        Ragini MMS 2|       Bhushan Patel|  India|  August 27, 2021|        2014| TV-MA| 113 min|       10|               10|\n",
            "+-------+-----+--------------------+--------------------+-------+-----------------+------------+------+--------+---------+-----------------+\n",
            "only showing top 20 rows\n",
            "\n"
          ]
        }
      ]
    },
    {
      "cell_type": "code",
      "source": [
        "data = [\n",
        "    (\"John\", \"HR\", 3000),\n",
        "    (\"Anna\", \"IT\", 4000),\n",
        "    (\"Mike\", \"Finance\", 5000),\n",
        "    (\"Anna\", \"Finance\", 4000),\n",
        "    (\"Mike\", \"HR\", 5000),\n",
        "    (\"Sara\", \"HR\", 3500),\n",
        "    (\"Tom\", \"IT\", 4500)\n",
        "]\n",
        "columns = [\"Name\", \"Department\", \"Salary\"]\n",
        "\n",
        "df3 = spark.createDataFrame(data, columns)\n",
        "\n",
        "# Show the DataFrame\n",
        "df3.show()"
      ],
      "metadata": {
        "colab": {
          "base_uri": "https://localhost:8080/"
        },
        "id": "utxK4dU5d3ca",
        "outputId": "470bcdf1-8663-4b63-b16a-ed8a74902b7f"
      },
      "execution_count": 90,
      "outputs": [
        {
          "output_type": "stream",
          "name": "stdout",
          "text": [
            "+----+----------+------+\n",
            "|Name|Department|Salary|\n",
            "+----+----------+------+\n",
            "|John|        HR|  3000|\n",
            "|Anna|        IT|  4000|\n",
            "|Mike|   Finance|  5000|\n",
            "|Anna|   Finance|  4000|\n",
            "|Mike|        HR|  5000|\n",
            "|Sara|        HR|  3500|\n",
            "| Tom|        IT|  4500|\n",
            "+----+----------+------+\n",
            "\n"
          ]
        }
      ]
    },
    {
      "cell_type": "code",
      "source": [
        "df3.groupBy(\"Name\").sum().show()\n",
        "df3.groupBy(\"Department\").sum().show()\n",
        "df3.groupBy(\"Department\").mean().show()\n",
        "df3.groupBy(\"Department\").count().show()"
      ],
      "metadata": {
        "colab": {
          "base_uri": "https://localhost:8080/"
        },
        "id": "CJeF8i7TfE7F",
        "outputId": "2fbb8ed7-d820-4e5a-e40b-1beacb47d756"
      },
      "execution_count": 95,
      "outputs": [
        {
          "output_type": "stream",
          "name": "stdout",
          "text": [
            "+----+-----------+\n",
            "|Name|sum(Salary)|\n",
            "+----+-----------+\n",
            "|Anna|       8000|\n",
            "|John|       3000|\n",
            "|Mike|      10000|\n",
            "| Tom|       4500|\n",
            "|Sara|       3500|\n",
            "+----+-----------+\n",
            "\n",
            "+----------+-----------+\n",
            "|Department|sum(Salary)|\n",
            "+----------+-----------+\n",
            "|        HR|      11500|\n",
            "|   Finance|       9000|\n",
            "|        IT|       8500|\n",
            "+----------+-----------+\n",
            "\n",
            "+----------+------------------+\n",
            "|Department|       avg(Salary)|\n",
            "+----------+------------------+\n",
            "|        HR|3833.3333333333335|\n",
            "|   Finance|            4500.0|\n",
            "|        IT|            4250.0|\n",
            "+----------+------------------+\n",
            "\n",
            "+----------+-----+\n",
            "|Department|count|\n",
            "+----------+-----+\n",
            "|        HR|    3|\n",
            "|   Finance|    2|\n",
            "|        IT|    2|\n",
            "+----------+-----+\n",
            "\n"
          ]
        }
      ]
    },
    {
      "cell_type": "code",
      "source": [],
      "metadata": {
        "id": "z8CATxcRlKk5"
      },
      "execution_count": null,
      "outputs": []
    }
  ]
}