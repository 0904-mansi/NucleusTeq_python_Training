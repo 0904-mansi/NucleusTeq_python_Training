{
 "cells": [
  {
   "cell_type": "code",
   "execution_count": 2,
   "metadata": {},
   "outputs": [
    {
     "name": "stdout",
     "output_type": "stream",
     "text": [
      "<mysql.connector.connection_cext.CMySQLConnection object at 0x107f52530>\n",
      "('NucleusTeq',)\n",
      "('airlines_data',)\n",
      "('information_schema',)\n",
      "('mysql',)\n",
      "('performance_schema',)\n",
      "('phpmyadmin',)\n",
      "('test',)\n"
     ]
    }
   ],
   "source": [
    "import mysql.connector\n",
    "cnx = mysql.connector.connect(user='root', password='',\n",
    "                              host='127.0.0.1',\n",
    "                              use_pure=False)\n",
    "print(cnx)\n",
    "cursor = cnx.cursor()\n",
    "\n",
    "# Show existing tables\n",
    "cursor.execute(\"SHOW Databases\")\n",
    "for x in cursor:\n",
    "    print(x)\n",
    "\n"
   ]
  },
  {
   "cell_type": "code",
   "execution_count": 3,
   "metadata": {},
   "outputs": [],
   "source": [
    "# cursor.execute(\"Create Database NucleusTeq\")\n",
    "cursor.execute(\"USE NucleusTeq\")"
   ]
  },
  {
   "cell_type": "code",
   "execution_count": 4,
   "metadata": {},
   "outputs": [],
   "source": [
    "# Exercise 1: Create a new table\n",
    "create_table_query = \"\"\"\n",
    "CREATE TABLE IF NOT EXISTS employees (\n",
    "    id INT AUTO_INCREMENT PRIMARY KEY,\n",
    "    name VARCHAR(100),\n",
    "    age INT,\n",
    "    department VARCHAR(100)\n",
    ")\n",
    "\"\"\"\n",
    "cursor.execute(create_table_query)\n"
   ]
  },
  {
   "cell_type": "code",
   "execution_count": 5,
   "metadata": {},
   "outputs": [],
   "source": [
    "# Exercise 2: Insert data into the table\n",
    "insert_data_query = \"\"\"\n",
    "INSERT INTO employees (name, age, department) VALUES\n",
    "('John Doe', 30, 'IT'),\n",
    "('Jane Smith', 35, 'HR'),\n",
    "('Michael Johnson', 40, 'Finance')\n",
    "\"\"\"\n",
    "cursor.execute(insert_data_query)"
   ]
  },
  {
   "cell_type": "code",
   "execution_count": 24,
   "metadata": {},
   "outputs": [
    {
     "name": "stdout",
     "output_type": "stream",
     "text": [
      "('employees',)\n"
     ]
    }
   ],
   "source": [
    "cursor.execute(\"SHOW Tables\")\n",
    "for x in cursor:\n",
    "    print(x)"
   ]
  },
  {
   "cell_type": "code",
   "execution_count": 6,
   "metadata": {},
   "outputs": [
    {
     "name": "stdout",
     "output_type": "stream",
     "text": [
      "Employee Data:\n",
      "(4, 'John Doe', 30, 'IT')\n",
      "(5, 'Jane Smith', 35, 'HR')\n",
      "(6, 'Michael Johnson', 40, 'Finance')\n"
     ]
    }
   ],
   "source": [
    "select_data_query = \"\"\"\n",
    "SELECT * FROM employees\n",
    "\"\"\"\n",
    "cursor.execute(select_data_query)\n",
    "rows = cursor.fetchall()\n",
    "\n",
    "print(\"Employee Data:\")\n",
    "for row in rows:\n",
    "    print(row)"
   ]
  },
  {
   "cell_type": "code",
   "execution_count": 7,
   "metadata": {},
   "outputs": [],
   "source": [
    "update_data_query = \"\"\"\n",
    "UPDATE employees SET department = 'Operations' WHERE name = 'Michael Johnson'\n",
    "\"\"\"\n",
    "cursor.execute(update_data_query)"
   ]
  },
  {
   "cell_type": "code",
   "execution_count": 9,
   "metadata": {},
   "outputs": [],
   "source": [
    "create_department_table_query = \"\"\"\n",
    "CREATE TABLE IF NOT EXISTS department (\n",
    "    id INT AUTO_INCREMENT PRIMARY KEY,\n",
    "    name VARCHAR(100),\n",
    "    location VARCHAR(100)\n",
    ")\n",
    "\"\"\"\n",
    "cursor.execute(create_department_table_query)\n",
    "\n",
    "add_department_values_query = \"\"\"\n",
    "INSERT INTO department (name, location) VALUES\n",
    "('IT', 'New York'),\n",
    "('HR', 'London'),\n",
    "('Finance', 'Paris')\n",
    "\"\"\"\n",
    "cursor.execute(add_department_values_query)\n"
   ]
  },
  {
   "cell_type": "code",
   "execution_count": 10,
   "metadata": {},
   "outputs": [
    {
     "name": "stdout",
     "output_type": "stream",
     "text": [
      "Department Table (Before Update):\n",
      "(1, 'IT', 'New York')\n",
      "(2, 'HR', 'London')\n",
      "(3, 'Finance', 'Paris')\n"
     ]
    }
   ],
   "source": [
    "# Display 'department' table before update\n",
    "print(\"Department Table (Before Update):\")\n",
    "cursor.execute(\"SELECT * FROM department\")\n",
    "rows = cursor.fetchall()\n",
    "for row in rows:\n",
    "    print(row)"
   ]
  },
  {
   "cell_type": "code",
   "execution_count": 11,
   "metadata": {},
   "outputs": [
    {
     "name": "stdout",
     "output_type": "stream",
     "text": [
      "\n",
      "Department Table (After Update):\n",
      "(1, 'IT', 'New York')\n",
      "(2, 'HR', 'Tokyo')\n",
      "(3, 'Finance', 'Paris')\n"
     ]
    }
   ],
   "source": [
    "# Perform update commands\n",
    "update_department_query = \"\"\"\n",
    "UPDATE department SET location = 'Tokyo' WHERE name = 'HR'\n",
    "\"\"\"\n",
    "cursor.execute(update_department_query)\n",
    "\n",
    "# Display 'department' table after update\n",
    "print(\"\\nDepartment Table (After Update):\")\n",
    "cursor.execute(\"SELECT * FROM department\")\n",
    "rows = cursor.fetchall()\n",
    "for row in rows:\n",
    "    print(row)\n"
   ]
  },
  {
   "cell_type": "code",
   "execution_count": 12,
   "metadata": {},
   "outputs": [
    {
     "name": "stdout",
     "output_type": "stream",
     "text": [
      "\n",
      "Selecting Data from 'department' Table:\n",
      "(1, 'IT', 'New York')\n"
     ]
    }
   ],
   "source": [
    "# Perform select command\n",
    "print(\"\\nSelecting Data from 'department' Table:\")\n",
    "cursor.execute(\"SELECT * FROM department WHERE location = 'New York'\")\n",
    "rows = cursor.fetchall()\n",
    "for row in rows:\n",
    "    print(row)\n"
   ]
  },
  {
   "cell_type": "code",
   "execution_count": 13,
   "metadata": {},
   "outputs": [
    {
     "name": "stdout",
     "output_type": "stream",
     "text": [
      "\n",
      "Department Table (After Delete):\n",
      "(1, 'IT', 'New York')\n",
      "(2, 'HR', 'Tokyo')\n"
     ]
    }
   ],
   "source": [
    "delete_department_query = \"\"\"\n",
    "DELETE FROM department WHERE name = 'Finance'\n",
    "\"\"\"\n",
    "cursor.execute(delete_department_query)\n",
    "\n",
    "# Display 'department' table after delete\n",
    "print(\"\\nDepartment Table (After Delete):\")\n",
    "cursor.execute(\"SELECT * FROM department\")\n",
    "rows = cursor.fetchall()\n",
    "for row in rows:\n",
    "    print(row)"
   ]
  },
  {
   "cell_type": "code",
   "execution_count": 14,
   "metadata": {},
   "outputs": [
    {
     "name": "stdout",
     "output_type": "stream",
     "text": [
      "Employee Details with Department Information:\n",
      "('John Doe', 30, 'IT', 'IT', 'New York')\n",
      "('Jane Smith', 35, 'HR', 'HR', 'Tokyo')\n"
     ]
    }
   ],
   "source": [
    "# Perform inner join between 'department' and 'employees'\n",
    "join_query = \"\"\"\n",
    "SELECT e.name as employee_name, e.age, e.department as employee_department, d.name as department_name, d.location\n",
    "FROM employees e\n",
    "INNER JOIN department d ON e.department = d.name\n",
    "\"\"\"\n",
    "cursor.execute(join_query)\n",
    "rows = cursor.fetchall()\n",
    "\n",
    "print(\"Employee Details with Department Information:\")\n",
    "for row in rows:\n",
    "    print(row)"
   ]
  }
 ],
 "metadata": {
  "kernelspec": {
   "display_name": "Python 3",
   "language": "python",
   "name": "python3"
  },
  "language_info": {
   "codemirror_mode": {
    "name": "ipython",
    "version": 3
   },
   "file_extension": ".py",
   "mimetype": "text/x-python",
   "name": "python",
   "nbconvert_exporter": "python",
   "pygments_lexer": "ipython3",
   "version": "3.10.1"
  }
 },
 "nbformat": 4,
 "nbformat_minor": 2
}
